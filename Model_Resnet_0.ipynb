{
 "cells": [
  {
   "cell_type": "code",
   "execution_count": 1,
   "metadata": {},
   "outputs": [],
   "source": [
    "import numpy as np\n",
    "from datetime import datetime\n",
    "import pandas as pd \n",
    "import time\n",
    "import os\n",
    "import matplotlib.pyplot as plt\n",
    "import matplotlib as mpl\n",
    "import json\n",
    "from tqdm import tqdm\n",
    "import warnings\n",
    "warnings.filterwarnings('ignore')"
   ]
  },
  {
   "cell_type": "code",
   "execution_count": 2,
   "metadata": {},
   "outputs": [
    {
     "name": "stdout",
     "output_type": "stream",
     "text": [
      "Client created using default project: fast-haiku-332223\n",
      "Bucket name: finance584\n",
      "Bucket location: US-EAST1\n",
      "Bucket storage class: STANDARD\n"
     ]
    }
   ],
   "source": [
    "from google.cloud import storage\n",
    "BUCKET = \"finance584\"\n",
    "client = storage.Client()\n",
    "print(\"Client created using default project: {}\".format(client.project))\n",
    "bucket = client.get_bucket(BUCKET)\n",
    "print(\"Bucket name: {}\".format(bucket.name))\n",
    "print(\"Bucket location: {}\".format(bucket.location))\n",
    "print(\"Bucket storage class: {}\".format(bucket.storage_class))"
   ]
  },
  {
   "cell_type": "code",
   "execution_count": 2,
   "metadata": {},
   "outputs": [],
   "source": [
    "# Load X and y\n",
    "import numpy as np\n",
    "from datetime import datetime\n",
    "import pandas as pd \n",
    "import time\n",
    "import os\n",
    "import matplotlib.pyplot as plt\n",
    "import matplotlib as mpl\n",
    "import json\n",
    "from tqdm import tqdm\n",
    "import warnings\n",
    "warnings.filterwarnings('ignore')\n",
    "\n",
    "blob = bucket.get_blob(\"data_store/cnn_df3_X.npy\")\n",
    "with blob.open(\"rb\") as f:\n",
    "    X = np.load(f)\n",
    "    \n",
    "blob = bucket.get_blob(\"data_store/cnn_df3_y.npy\")\n",
    "with blob.open(\"rb\") as f:\n",
    "    y = np.load(f)"
   ]
  },
  {
   "cell_type": "code",
   "execution_count": 3,
   "metadata": {},
   "outputs": [],
   "source": [
    "# X = np.load(\"data_store/cnn_df3_X.npy\")\n",
    "# y = np.load(\"data_store/cnn_df3_y.npy\")"
   ]
  },
  {
   "cell_type": "code",
   "execution_count": 4,
   "metadata": {},
   "outputs": [],
   "source": [
    "# Reshape X\n",
    "X = X.reshape([406789,40,40,1])\n",
    "y = y.reshape([406789,1])"
   ]
  },
  {
   "cell_type": "code",
   "execution_count": 5,
   "metadata": {},
   "outputs": [],
   "source": [
    "# items:406789\n",
    "# split to train and test\n",
    "# from 2016-01-04 to 2020-12-31; from 2021-01-04 to 2021-09-23\n",
    "X_train = X[:353700]\n",
    "y_train = y[:353700]\n",
    "X_test = X[353700:]\n",
    "y_test = y[353700:]\n",
    "# set validation\n",
    "X_val = X_train[-50000:]\n",
    "y_val = y_train[-50000:]\n",
    "X_train = X_train[:-50000]\n",
    "y_train = y_train[:-50000]"
   ]
  },
  {
   "cell_type": "code",
   "execution_count": 6,
   "metadata": {},
   "outputs": [
    {
     "name": "stdout",
     "output_type": "stream",
     "text": [
      "X_train shape: (303700, 40, 40, 1)\n",
      "y_train shape: (303700, 1)\n",
      "X_val shape: (50000, 40, 40, 1)\n",
      "y_val shape: (50000, 1)\n",
      "X_test shape: (53089, 40, 40, 1)\n",
      "y_test shape: (53089, 1)\n"
     ]
    }
   ],
   "source": [
    "# print the shape\n",
    "print(\"X_train shape:\",X_train.shape)\n",
    "print(\"y_train shape:\",y_train.shape)\n",
    "print(\"X_val shape:\",X_val.shape)\n",
    "print(\"y_val shape:\",y_val.shape)\n",
    "print(\"X_test shape:\",X_test.shape)\n",
    "print(\"y_test shape:\",y_test.shape)"
   ]
  },
  {
   "cell_type": "markdown",
   "metadata": {},
   "source": [
    "### Train"
   ]
  },
  {
   "cell_type": "code",
   "execution_count": 7,
   "metadata": {},
   "outputs": [],
   "source": [
    "import tensorflow as tf\n",
    "from tensorflow.keras import *\n",
    "from tensorflow import keras"
   ]
  },
  {
   "cell_type": "code",
   "execution_count": 8,
   "metadata": {},
   "outputs": [],
   "source": [
    "# plot the loss and acc, set the callbacks\n",
    "# reference https://blog.csdn.net/wyx100/article/details/81096192\n",
    "class Hist_Callbacks(keras.callbacks.Callback):\n",
    "    def on_train_begin(self, logs={}):\n",
    "        self.losses = {'batch':[], 'epoch':[]}\n",
    "        self.accuracy = {'batch':[], 'epoch':[]}\n",
    "        self.val_loss = {'batch':[], 'epoch':[]}\n",
    "        self.val_acc = {'batch':[], 'epoch':[]}\n",
    " \n",
    "    def on_batch_end(self, batch, logs={}):\n",
    "        self.losses['batch'].append(logs.get('loss'))\n",
    "        self.accuracy['batch'].append(logs.get('accuracy'))\n",
    "        self.val_loss['batch'].append(logs.get('val_loss'))\n",
    "        self.val_acc['batch'].append(logs.get('val_accuracy'))\n",
    " \n",
    "    def on_epoch_end(self, batch, logs={}):\n",
    "        self.losses['epoch'].append(logs.get('loss'))\n",
    "        self.accuracy['epoch'].append(logs.get('accuracy'))\n",
    "        self.val_loss['epoch'].append(logs.get('val_loss'))\n",
    "        self.val_acc['epoch'].append(logs.get('val_accuracy'))\n",
    "        \n",
    "    def get_loss_and_acc(self):\n",
    "        call_list = {}\n",
    "        call_list[\"train_loss\"] = self.losses[\"epoch\"]\n",
    "        call_list[\"train_acc\"] = self.accuracy[\"epoch\"]\n",
    "        call_list[\"val_loss\"] = self.val_loss[\"epoch\"]\n",
    "        call_list[\"val_acc\"] = self.val_acc[\"epoch\"]\n",
    "        return call_list\n",
    "        \n",
    "    def loss_plot_loss(self, loss_type):\n",
    "        iters = range(len(self.losses[loss_type]))\n",
    "        plt.figure()\n",
    "        plt.title('Loss of Model')\n",
    "        plt.ylim(0,5)\n",
    "        # plot the loss, train\n",
    "        plt.plot(iters, self.losses[loss_type], 'r', label='train_loss')\n",
    "        # plot the loss, val\n",
    "        plt.plot(iters, self.val_loss[loss_type], 'b', label='val_loss')\n",
    "        plt.grid(True)\n",
    "        plt.xlabel(loss_type)\n",
    "        plt.ylabel('loss')\n",
    "        plt.legend(loc=\"upper right\")\n",
    "        plt.show()\n",
    "        \n",
    "    def loss_plot_acc(self, loss_type):\n",
    "        iters = range(len(self.losses[loss_type]))\n",
    "        plt.figure()\n",
    "        plt.title('Accuracy of Model')\n",
    "        plt.ylim(0, 1)\n",
    "        # plot the acc, train\n",
    "        plt.plot(iters, self.accuracy[loss_type], 'r', label='train_acc')\n",
    "        # plot the acc, val\n",
    "        plt.plot(iters, self.val_acc[loss_type], 'b', label='val_acc')\n",
    "        plt.grid(True)\n",
    "        plt.xlabel(loss_type)\n",
    "        plt.ylabel('acc')\n",
    "        plt.legend(loc=\"upper right\")\n",
    "        plt.show()"
   ]
  },
  {
   "cell_type": "code",
   "execution_count": 9,
   "metadata": {},
   "outputs": [],
   "source": [
    "class Residual(tf.keras.Model):  #@save\n",
    "    \"\"\"The Residual block of ResNet.\"\"\"\n",
    "    def __init__(self, num_channels, use_1x1conv=False, strides=1):\n",
    "        super().__init__()\n",
    "        self.conv1 = tf.keras.layers.Conv2D(num_channels, padding='same',\n",
    "                                            kernel_size=3, strides=strides,kernel_regularizer=regularizers.l2(l=0.01))\n",
    "        self.conv2 = tf.keras.layers.Conv2D(num_channels, kernel_size=3,\n",
    "                                            padding='same',kernel_regularizer=regularizers.l2(l=0.01))\n",
    "        self.conv3 = None\n",
    "        if use_1x1conv:\n",
    "            self.conv3 = tf.keras.layers.Conv2D(num_channels, kernel_size=1,\n",
    "                                                strides=strides)\n",
    "        self.bn1 = tf.keras.layers.BatchNormalization()\n",
    "        self.bn2 = tf.keras.layers.BatchNormalization()\n",
    "\n",
    "    def call(self, X):\n",
    "        Y = tf.keras.activations.relu(self.bn1(self.conv1(X)))\n",
    "        Y = self.bn2(self.conv2(Y))\n",
    "        if self.conv3 is not None:\n",
    "            X = self.conv3(X)\n",
    "        Y += X\n",
    "        return tf.keras.activations.relu(Y)"
   ]
  },
  {
   "cell_type": "code",
   "execution_count": 10,
   "metadata": {},
   "outputs": [],
   "source": [
    "class ResnetBlock(tf.keras.layers.Layer):\n",
    "    def __init__(self, num_channels, num_residuals, first_block=False,\n",
    "                 **kwargs):\n",
    "        super(ResnetBlock, self).__init__(**kwargs)\n",
    "        self.residual_layers = []\n",
    "        for i in range(num_residuals):\n",
    "            if i == 0 and not first_block:\n",
    "                self.residual_layers.append(\n",
    "                    Residual(num_channels, use_1x1conv=True, strides=2))\n",
    "            else:\n",
    "                self.residual_layers.append(Residual(num_channels))\n",
    "\n",
    "    def call(self, X):\n",
    "        for layer in self.residual_layers.layers:\n",
    "            X = layer(X)\n",
    "        return X"
   ]
  },
  {
   "cell_type": "code",
   "execution_count": 12,
   "metadata": {},
   "outputs": [],
   "source": [
    "model = models.Sequential()\n",
    "model.add(layers.Conv2D(40, (3, 3),activation='relu',strides=2, padding='same',input_shape=(40, 40, 1)))\n",
    "model.add(layers.MaxPooling2D((2, 2)))\n",
    "model.add(layers.Dropout(0.3))\n",
    "model.add(ResnetBlock(40, 2, first_block=True))\n",
    "model.add(ResnetBlock(80, 2))\n",
    "model.add(layers.Dropout(0.2))\n",
    "model.add(layers.Flatten())\n",
    "model.add(layers.Dense(units=640,activation=\"relu\"))\n",
    "model.add(layers.Dense(units=7, activation=\"softmax\"))"
   ]
  },
  {
   "cell_type": "code",
   "execution_count": 13,
   "metadata": {},
   "outputs": [
    {
     "name": "stdout",
     "output_type": "stream",
     "text": [
      "Model: \"sequential_1\"\n",
      "_________________________________________________________________\n",
      "Layer (type)                 Output Shape              Param #   \n",
      "=================================================================\n",
      "conv2d_1 (Conv2D)            (None, 20, 20, 40)        400       \n",
      "_________________________________________________________________\n",
      "max_pooling2d_1 (MaxPooling2 (None, 10, 10, 40)        0         \n",
      "_________________________________________________________________\n",
      "dropout (Dropout)            (None, 10, 10, 40)        0         \n",
      "_________________________________________________________________\n",
      "resnet_block (ResnetBlock)   (None, 10, 10, 40)        58400     \n",
      "_________________________________________________________________\n",
      "resnet_block_1 (ResnetBlock) (None, 5, 5, 80)          206480    \n",
      "_________________________________________________________________\n",
      "dropout_1 (Dropout)          (None, 5, 5, 80)          0         \n",
      "_________________________________________________________________\n",
      "flatten (Flatten)            (None, 2000)              0         \n",
      "_________________________________________________________________\n",
      "dense (Dense)                (None, 640)               1280640   \n",
      "_________________________________________________________________\n",
      "dense_1 (Dense)              (None, 7)                 4487      \n",
      "=================================================================\n",
      "Total params: 1,550,407\n",
      "Trainable params: 1,549,447\n",
      "Non-trainable params: 960\n",
      "_________________________________________________________________\n"
     ]
    }
   ],
   "source": [
    "model.summary()"
   ]
  },
  {
   "cell_type": "code",
   "execution_count": 14,
   "metadata": {},
   "outputs": [],
   "source": [
    "# tf.keras.utils.plot_model(\n",
    "#     model,\n",
    "#     to_file=\"model.png\",\n",
    "#     show_shapes=True,\n",
    "#     show_layer_names=True,\n",
    "#     rankdir=\"TB\",\n",
    "#     expand_nested=True,\n",
    "#     dpi=80,\n",
    "# )"
   ]
  },
  {
   "cell_type": "code",
   "execution_count": 15,
   "metadata": {
    "scrolled": true
   },
   "outputs": [],
   "source": [
    "# create history\n",
    "history = Hist_Callbacks()\n",
    "#opt = tf.keras.optimizers.SGD(learning_rate=0.9)\n",
    "#opt = \"adam\"\n",
    "#opt = keras.optimizers.Adam(learning_rate=0.3)\n",
    "opt = \"adam\"\n",
    "model.compile(optimizer=opt,\n",
    "              loss=tf.keras.losses.SparseCategoricalCrossentropy(from_logits=True),\n",
    "              metrics=['accuracy'])"
   ]
  },
  {
   "cell_type": "code",
   "execution_count": 17,
   "metadata": {},
   "outputs": [
    {
     "name": "stdout",
     "output_type": "stream",
     "text": [
      "Epoch 1/10\n",
      "760/760 - 363s - loss: 2.2403 - accuracy: 0.2771 - val_loss: 1.7155 - val_accuracy: 0.2589\n",
      "Epoch 2/10\n",
      "760/760 - 359s - loss: 1.6251 - accuracy: 0.2943 - val_loss: 1.7277 - val_accuracy: 0.2523\n",
      "Epoch 3/10\n",
      "760/760 - 363s - loss: 1.6096 - accuracy: 0.3075 - val_loss: 1.7426 - val_accuracy: 0.2497\n",
      "Epoch 4/10\n",
      "760/760 - 359s - loss: 1.5875 - accuracy: 0.3255 - val_loss: 1.7707 - val_accuracy: 0.2476\n",
      "Epoch 5/10\n",
      "760/760 - 359s - loss: 1.5576 - accuracy: 0.3452 - val_loss: 1.7761 - val_accuracy: 0.2535\n",
      "Epoch 6/10\n",
      "760/760 - 361s - loss: 1.5268 - accuracy: 0.3607 - val_loss: 1.7637 - val_accuracy: 0.2514\n",
      "Epoch 7/10\n",
      "760/760 - 361s - loss: 1.5025 - accuracy: 0.3736 - val_loss: 1.8008 - val_accuracy: 0.2495\n",
      "Epoch 8/10\n",
      "760/760 - 360s - loss: 1.4710 - accuracy: 0.3855 - val_loss: 1.7784 - val_accuracy: 0.2492\n",
      "Epoch 9/10\n",
      "760/760 - 361s - loss: 1.4455 - accuracy: 0.3946 - val_loss: 1.7781 - val_accuracy: 0.2460\n",
      "Epoch 10/10\n",
      "760/760 - 360s - loss: 1.4182 - accuracy: 0.4067 - val_loss: 1.7567 - val_accuracy: 0.2478\n"
     ]
    },
    {
     "data": {
      "text/plain": [
       "<keras.callbacks.History at 0x7f19902bd710>"
      ]
     },
     "execution_count": 17,
     "metadata": {},
     "output_type": "execute_result"
    }
   ],
   "source": [
    "model.fit(X_train, y_train, epochs=10,batch_size=400,verbose = 2,\n",
    "                    validation_data=(X_val, y_val), callbacks = [history])"
   ]
  },
  {
   "cell_type": "code",
   "execution_count": 18,
   "metadata": {},
   "outputs": [
    {
     "name": "stderr",
     "output_type": "stream",
     "text": [
      "2021-11-15 05:53:26.873597: W tensorflow/python/util/util.cc:348] Sets are not currently considered sequences, but this may change in the future, so consider avoiding using them.\n"
     ]
    },
    {
     "name": "stdout",
     "output_type": "stream",
     "text": [
      "INFO:tensorflow:Assets written to: model/resnet_model/assets\n"
     ]
    }
   ],
   "source": [
    "# save the model\n",
    "model.save('model/resnet_model')"
   ]
  },
  {
   "cell_type": "markdown",
   "metadata": {},
   "source": [
    "### Evaluate"
   ]
  },
  {
   "cell_type": "code",
   "execution_count": 19,
   "metadata": {},
   "outputs": [
    {
     "name": "stdout",
     "output_type": "stream",
     "text": [
      "Test score of train dataset: 1.368787169456482\n",
      "Test accuracy of train dataset: 0.4341126084327698\n",
      "Test score of validation dataset: 1.756729245185852\n",
      "Test accuracy of validation dataset: 0.24782000482082367\n"
     ]
    }
   ],
   "source": [
    "# evaluate train and val\n",
    "score = model.evaluate(X_train, y_train, verbose=0)\n",
    "print('Test score of train dataset:', score[0])\n",
    "print('Test accuracy of train dataset:', score[1])\n",
    "score = model.evaluate(X_val, y_val, verbose=0)\n",
    "print('Test score of validation dataset:', score[0])\n",
    "print('Test accuracy of validation dataset:', score[1])"
   ]
  },
  {
   "cell_type": "code",
   "execution_count": 20,
   "metadata": {},
   "outputs": [
    {
     "data": {
      "image/png": "[encoded data removed]",
      "text/plain": [
       "<Figure size 432x288 with 1 Axes>"
      ]
     },
     "metadata": {
      "needs_background": "light"
     },
     "output_type": "display_data"
    },
    {
     "data": {
      "image/png": "[encoded data removed]",
      "text/plain": [
       "<Figure size 432x288 with 1 Axes>"
      ]
     },
     "metadata": {
      "needs_background": "light"
     },
     "output_type": "display_data"
    }
   ],
   "source": [
    "# plot the loss and accuracy of train and val \n",
    "loss_type = \"epoch\"\n",
    "history.loss_plot_loss(loss_type)\n",
    "history.loss_plot_acc(loss_type)"
   ]
  },
  {
   "cell_type": "code",
   "execution_count": 21,
   "metadata": {},
   "outputs": [
    {
     "name": "stdout",
     "output_type": "stream",
     "text": [
      "Test score of test dataset: 1.7901986837387085\n",
      "Test accuracy of test dataset: 0.23375840485095978\n"
     ]
    }
   ],
   "source": [
    "# evaluate test data\n",
    "score = model.evaluate(X_test, y_test, verbose=0)\n",
    "print('Test score of test dataset:', score[0])\n",
    "print('Test accuracy of test dataset:', score[1])"
   ]
  },
  {
   "cell_type": "code",
   "execution_count": 22,
   "metadata": {},
   "outputs": [
    {
     "data": {
      "text/html": [
       "<div>\n",
       "<style scoped>\n",
       "    .dataframe tbody tr th:only-of-type {\n",
       "        vertical-align: middle;\n",
       "    }\n",
       "\n",
       "    .dataframe tbody tr th {\n",
       "        vertical-align: top;\n",
       "    }\n",
       "\n",
       "    .dataframe thead th {\n",
       "        text-align: right;\n",
       "    }\n",
       "</style>\n",
       "<table border=\"1\" class=\"dataframe\">\n",
       "  <thead>\n",
       "    <tr style=\"text-align: right;\">\n",
       "      <th></th>\n",
       "      <th>train_loss</th>\n",
       "      <th>train_acc</th>\n",
       "      <th>val_loss</th>\n",
       "      <th>val_acc</th>\n",
       "    </tr>\n",
       "  </thead>\n",
       "  <tbody>\n",
       "    <tr>\n",
       "      <th>0</th>\n",
       "      <td>2.240283</td>\n",
       "      <td>0.277112</td>\n",
       "      <td>1.715451</td>\n",
       "      <td>0.25892</td>\n",
       "    </tr>\n",
       "    <tr>\n",
       "      <th>1</th>\n",
       "      <td>1.625118</td>\n",
       "      <td>0.294300</td>\n",
       "      <td>1.727742</td>\n",
       "      <td>0.25226</td>\n",
       "    </tr>\n",
       "    <tr>\n",
       "      <th>2</th>\n",
       "      <td>1.609614</td>\n",
       "      <td>0.307537</td>\n",
       "      <td>1.742567</td>\n",
       "      <td>0.24974</td>\n",
       "    </tr>\n",
       "    <tr>\n",
       "      <th>3</th>\n",
       "      <td>1.587459</td>\n",
       "      <td>0.325515</td>\n",
       "      <td>1.770650</td>\n",
       "      <td>0.24762</td>\n",
       "    </tr>\n",
       "    <tr>\n",
       "      <th>4</th>\n",
       "      <td>1.557580</td>\n",
       "      <td>0.345229</td>\n",
       "      <td>1.776101</td>\n",
       "      <td>0.25352</td>\n",
       "    </tr>\n",
       "    <tr>\n",
       "      <th>5</th>\n",
       "      <td>1.526825</td>\n",
       "      <td>0.360747</td>\n",
       "      <td>1.763697</td>\n",
       "      <td>0.25136</td>\n",
       "    </tr>\n",
       "    <tr>\n",
       "      <th>6</th>\n",
       "      <td>1.502474</td>\n",
       "      <td>0.373599</td>\n",
       "      <td>1.800837</td>\n",
       "      <td>0.24954</td>\n",
       "    </tr>\n",
       "    <tr>\n",
       "      <th>7</th>\n",
       "      <td>1.470988</td>\n",
       "      <td>0.385532</td>\n",
       "      <td>1.778403</td>\n",
       "      <td>0.24916</td>\n",
       "    </tr>\n",
       "    <tr>\n",
       "      <th>8</th>\n",
       "      <td>1.445491</td>\n",
       "      <td>0.394626</td>\n",
       "      <td>1.778051</td>\n",
       "      <td>0.24602</td>\n",
       "    </tr>\n",
       "    <tr>\n",
       "      <th>9</th>\n",
       "      <td>1.418162</td>\n",
       "      <td>0.406668</td>\n",
       "      <td>1.756730</td>\n",
       "      <td>0.24782</td>\n",
       "    </tr>\n",
       "  </tbody>\n",
       "</table>\n",
       "</div>"
      ],
      "text/plain": [
       "   train_loss  train_acc  val_loss  val_acc\n",
       "0    2.240283   0.277112  1.715451  0.25892\n",
       "1    1.625118   0.294300  1.727742  0.25226\n",
       "2    1.609614   0.307537  1.742567  0.24974\n",
       "3    1.587459   0.325515  1.770650  0.24762\n",
       "4    1.557580   0.345229  1.776101  0.25352\n",
       "5    1.526825   0.360747  1.763697  0.25136\n",
       "6    1.502474   0.373599  1.800837  0.24954\n",
       "7    1.470988   0.385532  1.778403  0.24916\n",
       "8    1.445491   0.394626  1.778051  0.24602\n",
       "9    1.418162   0.406668  1.756730  0.24782"
      ]
     },
     "execution_count": 22,
     "metadata": {},
     "output_type": "execute_result"
    }
   ],
   "source": [
    "# get the data\n",
    "call_return = history.get_loss_and_acc()\n",
    "call_return_df = pd.DataFrame(call_return)\n",
    "call_return_df"
   ]
  },
  {
   "cell_type": "code",
   "execution_count": 23,
   "metadata": {},
   "outputs": [
    {
     "name": "stdout",
     "output_type": "stream",
     "text": [
      "Requirement already satisfied: openpyxl in /opt/conda/lib/python3.7/site-packages (3.0.9)\n",
      "Requirement already satisfied: et-xmlfile in /opt/conda/lib/python3.7/site-packages (from openpyxl) (1.1.0)\n"
     ]
    }
   ],
   "source": [
    "# save the data\n",
    "! pip install openpyxl\n",
    "call_return_df.to_excel('resnet_loss_acc.xlsx')"
   ]
  },
  {
   "cell_type": "markdown",
   "metadata": {},
   "source": [
    "### Load Model And Print the Posibility"
   ]
  },
  {
   "cell_type": "code",
   "execution_count": 24,
   "metadata": {},
   "outputs": [],
   "source": [
    "load_model = keras.models.load_model('model/resnet_model')"
   ]
  },
  {
   "cell_type": "code",
   "execution_count": 25,
   "metadata": {},
   "outputs": [
    {
     "data": {
      "text/plain": [
       "array([[5.29109457e-07, 1.23902690e-02, 2.01443225e-01, ...,\n",
       "        2.21699029e-01, 2.88736403e-01, 6.42512366e-02],\n",
       "       [2.40479581e-10, 1.15802912e-02, 3.29426199e-01, ...,\n",
       "        2.74344355e-01, 1.64197117e-01, 2.04193816e-02],\n",
       "       [6.30958084e-07, 7.37481788e-02, 1.73680514e-01, ...,\n",
       "        1.74091488e-01, 2.65804857e-01, 1.89827710e-01],\n",
       "       ...,\n",
       "       [9.98463365e-04, 7.51002431e-02, 2.33514845e-01, ...,\n",
       "        2.16226876e-01, 1.82864845e-01, 7.38845840e-02],\n",
       "       [5.49468609e-07, 1.45916134e-01, 1.92795485e-01, ...,\n",
       "        1.14264555e-01, 2.51113772e-01, 1.84033781e-01],\n",
       "       [3.59304358e-05, 1.02959879e-01, 2.30329454e-01, ...,\n",
       "        1.69976726e-01, 1.88216448e-01, 1.22831784e-01]], dtype=float32)"
      ]
     },
     "execution_count": 25,
     "metadata": {},
     "output_type": "execute_result"
    }
   ],
   "source": [
    "y_pred = load_model.predict(X_test)\n",
    "y_pred"
   ]
  },
  {
   "cell_type": "code",
   "execution_count": 26,
   "metadata": {},
   "outputs": [],
   "source": [
    "np.save('y_resnet.npy',y_pred)"
   ]
  },
  {
   "cell_type": "code",
   "execution_count": null,
   "metadata": {},
   "outputs": [],
   "source": []
  },
  {
   "cell_type": "code",
   "execution_count": null,
   "metadata": {},
   "outputs": [],
   "source": []
  }
 ],
 "metadata": {
  "environment": {
   "kernel": "python3",
   "name": "tf2-gpu.2-6.m84",
   "type": "gcloud",
   "uri": "gcr.io/deeplearning-platform-release/tf2-gpu.2-6:m84"
  },
  "kernelspec": {
   "display_name": "Python 3",
   "language": "python",
   "name": "python3"
  },
  "language_info": {
   "codemirror_mode": {
    "name": "ipython",
    "version": 3
   },
   "file_extension": ".py",
   "mimetype": "text/x-python",
   "name": "python",
   "nbconvert_exporter": "python",
   "pygments_lexer": "ipython3",
   "version": "3.7.6"
  }
 },
 "nbformat": 4,
 "nbformat_minor": 4
}
