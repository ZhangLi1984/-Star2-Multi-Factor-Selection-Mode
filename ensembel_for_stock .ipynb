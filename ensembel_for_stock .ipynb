{
 "cells": [
  {
   "cell_type": "code",
   "execution_count": 15,
   "metadata": {},
   "outputs": [],
   "source": [
    "import numpy as np\n",
    "from datetime import datetime\n",
    "import pandas as pd \n",
    "import time\n",
    "import os\n",
    "import matplotlib.pyplot as plt\n",
    "import matplotlib as mpl\n",
    "import json\n",
    "from tqdm import tqdm\n",
    "import warnings\n",
    "warnings.filterwarnings('ignore')\n",
    "from decimal import Decimal"
   ]
  },
  {
   "cell_type": "code",
   "execution_count": 3,
   "metadata": {},
   "outputs": [],
   "source": [
    "import seaborn as sns\n",
    "import xgboost as xgb\n",
    "from sklearn import metrics\n",
    "from  sklearn.datasets  import  make_hastie_10_2\n",
    "from xgboost.sklearn import XGBClassifier\n",
    "from sklearn.metrics import classification_report\n",
    "from xgboost import plot_importance\n",
    "from sklearn.model_selection import train_test_split\n",
    "from sklearn import preprocessing \n",
    "from sklearn.model_selection import GridSearchCV\n",
    "from sklearn.linear_model import LogisticRegression\n",
    "from sklearn.ensemble import RandomForestClassifier\n",
    "from sklearn.ensemble import GradientBoostingClassifier\n",
    "from sklearn import metrics\n",
    "from sklearn.preprocessing import LabelEncoder\n",
    "from sklearn.metrics import confusion_matrix\n",
    "import xgboost as xgb\n",
    "from sklearn.metrics import accuracy_score\n",
    "from sklearn.model_selection import cross_val_score, KFold\n",
    "from sklearn.metrics import mean_squared_error\n",
    "from sklearn.metrics import r2_score\n",
    "from sklearn.model_selection import TimeSeriesSplit  \n",
    "from sklearn.preprocessing import StandardScaler    "
   ]
  },
  {
   "cell_type": "code",
   "execution_count": 7,
   "metadata": {},
   "outputs": [],
   "source": [
    "nn = pd.read_excel(\"data_store_y_poss/nn.xlsx\").iloc[:,1:]"
   ]
  },
  {
   "cell_type": "code",
   "execution_count": 4,
   "metadata": {},
   "outputs": [],
   "source": [
    "lightgbm = pd.read_excel(\"data_store_y_poss/lightgbm.xlsx\").iloc[:,1:]"
   ]
  },
  {
   "cell_type": "code",
   "execution_count": 8,
   "metadata": {},
   "outputs": [],
   "source": [
    "cnn = np.load(\"data_store_y_poss/y_cnn.npy\")\n",
    "lstm = np.load(\"data_store_y_poss/y_lstm.npy\")\n",
    "resnet = np.load(\"data_store_y_poss/y_resnet.npy\")"
   ]
  },
  {
   "cell_type": "code",
   "execution_count": 9,
   "metadata": {},
   "outputs": [
    {
     "data": {
      "text/plain": [
       "53089"
      ]
     },
     "execution_count": 9,
     "metadata": {},
     "output_type": "execute_result"
    }
   ],
   "source": [
    "# make suer\n",
    "(nn.iloc[:,:2] == lightgbm.iloc[:,:2])[\"date\"].sum()"
   ]
  },
  {
   "cell_type": "code",
   "execution_count": 10,
   "metadata": {},
   "outputs": [
    {
     "data": {
      "text/html": [
       "<div>\n",
       "<style scoped>\n",
       "    .dataframe tbody tr th:only-of-type {\n",
       "        vertical-align: middle;\n",
       "    }\n",
       "\n",
       "    .dataframe tbody tr th {\n",
       "        vertical-align: top;\n",
       "    }\n",
       "\n",
       "    .dataframe thead th {\n",
       "        text-align: right;\n",
       "    }\n",
       "</style>\n",
       "<table border=\"1\" class=\"dataframe\">\n",
       "  <thead>\n",
       "    <tr style=\"text-align: right;\">\n",
       "      <th></th>\n",
       "      <th>date</th>\n",
       "      <th>code</th>\n",
       "      <th>uid</th>\n",
       "      <th>change_5_class6</th>\n",
       "    </tr>\n",
       "  </thead>\n",
       "  <tbody>\n",
       "    <tr>\n",
       "      <th>0</th>\n",
       "      <td>2021-01-04</td>\n",
       "      <td>000001.XSHE</td>\n",
       "      <td>2021-01-04000001.XSHE</td>\n",
       "      <td>6</td>\n",
       "    </tr>\n",
       "    <tr>\n",
       "      <th>1</th>\n",
       "      <td>2021-01-04</td>\n",
       "      <td>000002.XSHE</td>\n",
       "      <td>2021-01-04000002.XSHE</td>\n",
       "      <td>6</td>\n",
       "    </tr>\n",
       "    <tr>\n",
       "      <th>2</th>\n",
       "      <td>2021-01-04</td>\n",
       "      <td>000012.XSHE</td>\n",
       "      <td>2021-01-04000012.XSHE</td>\n",
       "      <td>1</td>\n",
       "    </tr>\n",
       "    <tr>\n",
       "      <th>3</th>\n",
       "      <td>2021-01-04</td>\n",
       "      <td>000027.XSHE</td>\n",
       "      <td>2021-01-04000027.XSHE</td>\n",
       "      <td>2</td>\n",
       "    </tr>\n",
       "    <tr>\n",
       "      <th>4</th>\n",
       "      <td>2021-01-04</td>\n",
       "      <td>000039.XSHE</td>\n",
       "      <td>2021-01-04000039.XSHE</td>\n",
       "      <td>5</td>\n",
       "    </tr>\n",
       "    <tr>\n",
       "      <th>...</th>\n",
       "      <td>...</td>\n",
       "      <td>...</td>\n",
       "      <td>...</td>\n",
       "      <td>...</td>\n",
       "    </tr>\n",
       "    <tr>\n",
       "      <th>53084</th>\n",
       "      <td>2021-09-23</td>\n",
       "      <td>601998.XSHG</td>\n",
       "      <td>2021-09-23601998.XSHG</td>\n",
       "      <td>4</td>\n",
       "    </tr>\n",
       "    <tr>\n",
       "      <th>53085</th>\n",
       "      <td>2021-09-23</td>\n",
       "      <td>603019.XSHG</td>\n",
       "      <td>2021-09-23603019.XSHG</td>\n",
       "      <td>2</td>\n",
       "    </tr>\n",
       "    <tr>\n",
       "      <th>53086</th>\n",
       "      <td>2021-09-23</td>\n",
       "      <td>603288.XSHG</td>\n",
       "      <td>2021-09-23603288.XSHG</td>\n",
       "      <td>6</td>\n",
       "    </tr>\n",
       "    <tr>\n",
       "      <th>53087</th>\n",
       "      <td>2021-09-23</td>\n",
       "      <td>603806.XSHG</td>\n",
       "      <td>2021-09-23603806.XSHG</td>\n",
       "      <td>5</td>\n",
       "    </tr>\n",
       "    <tr>\n",
       "      <th>53088</th>\n",
       "      <td>2021-09-23</td>\n",
       "      <td>603993.XSHG</td>\n",
       "      <td>2021-09-23603993.XSHG</td>\n",
       "      <td>1</td>\n",
       "    </tr>\n",
       "  </tbody>\n",
       "</table>\n",
       "<p>53089 rows × 4 columns</p>\n",
       "</div>"
      ],
      "text/plain": [
       "             date         code                    uid  change_5_class6\n",
       "0      2021-01-04  000001.XSHE  2021-01-04000001.XSHE                6\n",
       "1      2021-01-04  000002.XSHE  2021-01-04000002.XSHE                6\n",
       "2      2021-01-04  000012.XSHE  2021-01-04000012.XSHE                1\n",
       "3      2021-01-04  000027.XSHE  2021-01-04000027.XSHE                2\n",
       "4      2021-01-04  000039.XSHE  2021-01-04000039.XSHE                5\n",
       "...           ...          ...                    ...              ...\n",
       "53084  2021-09-23  601998.XSHG  2021-09-23601998.XSHG                4\n",
       "53085  2021-09-23  603019.XSHG  2021-09-23603019.XSHG                2\n",
       "53086  2021-09-23  603288.XSHG  2021-09-23603288.XSHG                6\n",
       "53087  2021-09-23  603806.XSHG  2021-09-23603806.XSHG                5\n",
       "53088  2021-09-23  603993.XSHG  2021-09-23603993.XSHG                1\n",
       "\n",
       "[53089 rows x 4 columns]"
      ]
     },
     "execution_count": 10,
     "metadata": {},
     "output_type": "execute_result"
    }
   ],
   "source": [
    "df_base = nn.copy()\n",
    "df_base"
   ]
  },
  {
   "cell_type": "code",
   "execution_count": 11,
   "metadata": {},
   "outputs": [],
   "source": [
    "#get the class content\n",
    "df_base[\"cnn\"] = cnn.argmax(axis=1)\n",
    "df_base[\"lstm\"] = lstm.argmax(axis=1)\n",
    "df_base[\"resnet\"] = resnet.argmax(axis=1)\n",
    "df_base[\"gbm\"] = lightgbm[\"class_pre\"]"
   ]
  },
  {
   "cell_type": "code",
   "execution_count": 37,
   "metadata": {},
   "outputs": [
    {
     "data": {
      "text/html": [
       "<div>\n",
       "<style scoped>\n",
       "    .dataframe tbody tr th:only-of-type {\n",
       "        vertical-align: middle;\n",
       "    }\n",
       "\n",
       "    .dataframe tbody tr th {\n",
       "        vertical-align: top;\n",
       "    }\n",
       "\n",
       "    .dataframe thead th {\n",
       "        text-align: right;\n",
       "    }\n",
       "</style>\n",
       "<table border=\"1\" class=\"dataframe\">\n",
       "  <thead>\n",
       "    <tr style=\"text-align: right;\">\n",
       "      <th></th>\n",
       "      <th>date</th>\n",
       "      <th>code</th>\n",
       "      <th>uid</th>\n",
       "      <th>change_5_class6</th>\n",
       "      <th>cnn</th>\n",
       "      <th>lstm</th>\n",
       "      <th>resnet</th>\n",
       "      <th>gbm</th>\n",
       "      <th>ensemble</th>\n",
       "    </tr>\n",
       "  </thead>\n",
       "  <tbody>\n",
       "    <tr>\n",
       "      <th>0</th>\n",
       "      <td>2021-01-04</td>\n",
       "      <td>000001.XSHE</td>\n",
       "      <td>2021-01-04000001.XSHE</td>\n",
       "      <td>6</td>\n",
       "      <td>5</td>\n",
       "      <td>5</td>\n",
       "      <td>5</td>\n",
       "      <td>5</td>\n",
       "      <td>5</td>\n",
       "    </tr>\n",
       "    <tr>\n",
       "      <th>1</th>\n",
       "      <td>2021-01-04</td>\n",
       "      <td>000002.XSHE</td>\n",
       "      <td>2021-01-04000002.XSHE</td>\n",
       "      <td>6</td>\n",
       "      <td>4</td>\n",
       "      <td>3</td>\n",
       "      <td>2</td>\n",
       "      <td>3</td>\n",
       "      <td>3</td>\n",
       "    </tr>\n",
       "    <tr>\n",
       "      <th>2</th>\n",
       "      <td>2021-01-04</td>\n",
       "      <td>000012.XSHE</td>\n",
       "      <td>2021-01-04000012.XSHE</td>\n",
       "      <td>1</td>\n",
       "      <td>2</td>\n",
       "      <td>2</td>\n",
       "      <td>5</td>\n",
       "      <td>2</td>\n",
       "      <td>3</td>\n",
       "    </tr>\n",
       "    <tr>\n",
       "      <th>3</th>\n",
       "      <td>2021-01-04</td>\n",
       "      <td>000027.XSHE</td>\n",
       "      <td>2021-01-04000027.XSHE</td>\n",
       "      <td>2</td>\n",
       "      <td>3</td>\n",
       "      <td>2</td>\n",
       "      <td>3</td>\n",
       "      <td>2</td>\n",
       "      <td>2</td>\n",
       "    </tr>\n",
       "    <tr>\n",
       "      <th>4</th>\n",
       "      <td>2021-01-04</td>\n",
       "      <td>000039.XSHE</td>\n",
       "      <td>2021-01-04000039.XSHE</td>\n",
       "      <td>5</td>\n",
       "      <td>2</td>\n",
       "      <td>2</td>\n",
       "      <td>5</td>\n",
       "      <td>2</td>\n",
       "      <td>3</td>\n",
       "    </tr>\n",
       "    <tr>\n",
       "      <th>...</th>\n",
       "      <td>...</td>\n",
       "      <td>...</td>\n",
       "      <td>...</td>\n",
       "      <td>...</td>\n",
       "      <td>...</td>\n",
       "      <td>...</td>\n",
       "      <td>...</td>\n",
       "      <td>...</td>\n",
       "      <td>...</td>\n",
       "    </tr>\n",
       "    <tr>\n",
       "      <th>53084</th>\n",
       "      <td>2021-09-23</td>\n",
       "      <td>601998.XSHG</td>\n",
       "      <td>2021-09-23601998.XSHG</td>\n",
       "      <td>4</td>\n",
       "      <td>3</td>\n",
       "      <td>2</td>\n",
       "      <td>4</td>\n",
       "      <td>4</td>\n",
       "      <td>3</td>\n",
       "    </tr>\n",
       "    <tr>\n",
       "      <th>53085</th>\n",
       "      <td>2021-09-23</td>\n",
       "      <td>603019.XSHG</td>\n",
       "      <td>2021-09-23603019.XSHG</td>\n",
       "      <td>2</td>\n",
       "      <td>4</td>\n",
       "      <td>3</td>\n",
       "      <td>3</td>\n",
       "      <td>2</td>\n",
       "      <td>3</td>\n",
       "    </tr>\n",
       "    <tr>\n",
       "      <th>53086</th>\n",
       "      <td>2021-09-23</td>\n",
       "      <td>603288.XSHG</td>\n",
       "      <td>2021-09-23603288.XSHG</td>\n",
       "      <td>6</td>\n",
       "      <td>5</td>\n",
       "      <td>3</td>\n",
       "      <td>2</td>\n",
       "      <td>2</td>\n",
       "      <td>3</td>\n",
       "    </tr>\n",
       "    <tr>\n",
       "      <th>53087</th>\n",
       "      <td>2021-09-23</td>\n",
       "      <td>603806.XSHG</td>\n",
       "      <td>2021-09-23603806.XSHG</td>\n",
       "      <td>5</td>\n",
       "      <td>6</td>\n",
       "      <td>5</td>\n",
       "      <td>5</td>\n",
       "      <td>1</td>\n",
       "      <td>4</td>\n",
       "    </tr>\n",
       "    <tr>\n",
       "      <th>53088</th>\n",
       "      <td>2021-09-23</td>\n",
       "      <td>603993.XSHG</td>\n",
       "      <td>2021-09-23603993.XSHG</td>\n",
       "      <td>1</td>\n",
       "      <td>2</td>\n",
       "      <td>2</td>\n",
       "      <td>2</td>\n",
       "      <td>2</td>\n",
       "      <td>2</td>\n",
       "    </tr>\n",
       "  </tbody>\n",
       "</table>\n",
       "<p>53089 rows × 9 columns</p>\n",
       "</div>"
      ],
      "text/plain": [
       "             date         code                    uid  change_5_class6  cnn  \\\n",
       "0      2021-01-04  000001.XSHE  2021-01-04000001.XSHE                6    5   \n",
       "1      2021-01-04  000002.XSHE  2021-01-04000002.XSHE                6    4   \n",
       "2      2021-01-04  000012.XSHE  2021-01-04000012.XSHE                1    2   \n",
       "3      2021-01-04  000027.XSHE  2021-01-04000027.XSHE                2    3   \n",
       "4      2021-01-04  000039.XSHE  2021-01-04000039.XSHE                5    2   \n",
       "...           ...          ...                    ...              ...  ...   \n",
       "53084  2021-09-23  601998.XSHG  2021-09-23601998.XSHG                4    3   \n",
       "53085  2021-09-23  603019.XSHG  2021-09-23603019.XSHG                2    4   \n",
       "53086  2021-09-23  603288.XSHG  2021-09-23603288.XSHG                6    5   \n",
       "53087  2021-09-23  603806.XSHG  2021-09-23603806.XSHG                5    6   \n",
       "53088  2021-09-23  603993.XSHG  2021-09-23603993.XSHG                1    2   \n",
       "\n",
       "       lstm  resnet  gbm  ensemble  \n",
       "0         5       5    5         5  \n",
       "1         3       2    3         3  \n",
       "2         2       5    2         3  \n",
       "3         2       3    2         2  \n",
       "4         2       5    2         3  \n",
       "...     ...     ...  ...       ...  \n",
       "53084     2       4    4         3  \n",
       "53085     3       3    2         3  \n",
       "53086     3       2    2         3  \n",
       "53087     5       5    1         4  \n",
       "53088     2       2    2         2  \n",
       "\n",
       "[53089 rows x 9 columns]"
      ]
     },
     "execution_count": 37,
     "metadata": {},
     "output_type": "execute_result"
    }
   ],
   "source": [
    "df_base[\"ensemble\"] = (0.5+(0.2*df_base[\"cnn\"]+0.2*df_base[\"lstm\"]+0.2*df_base[\"resnet\"]+0.4*df_base[\"gbm\"])/1)\n",
    "df_base[\"ensemble\"] = [int(i) for i in df_base[\"ensemble\"]]\n",
    "df_base"
   ]
  },
  {
   "cell_type": "code",
   "execution_count": 38,
   "metadata": {},
   "outputs": [
    {
     "name": "stdout",
     "output_type": "stream",
     "text": [
      "              precision    recall  f1-score   support\n",
      "\n",
      "           1       0.24      0.06      0.10      4759\n",
      "           2       0.24      0.38      0.29     11484\n",
      "           3       0.28      0.17      0.21     10911\n",
      "           4       0.27      0.44      0.33     10809\n",
      "           5       0.19      0.16      0.17      9405\n",
      "           6       0.19      0.05      0.07      5721\n",
      "\n",
      "    accuracy                           0.25     53089\n",
      "   macro avg       0.24      0.21      0.20     53089\n",
      "weighted avg       0.24      0.25      0.22     53089\n",
      "\n"
     ]
    }
   ],
   "source": [
    "# evaluate cnn\n",
    "y_true = df_base[\"change_5_class6\"]\n",
    "y_pred = df_base[\"cnn\"]\n",
    "judge = classification_report(y_true, y_pred)\n",
    "print(judge)"
   ]
  },
  {
   "cell_type": "code",
   "execution_count": 39,
   "metadata": {},
   "outputs": [
    {
     "name": "stdout",
     "output_type": "stream",
     "text": [
      "              precision    recall  f1-score   support\n",
      "\n",
      "           1       0.21      0.12      0.15      4759\n",
      "           2       0.24      0.42      0.30     11484\n",
      "           3       0.28      0.23      0.26     10911\n",
      "           4       0.28      0.19      0.23     10809\n",
      "           5       0.19      0.26      0.22      9405\n",
      "           6       0.17      0.03      0.05      5721\n",
      "\n",
      "    accuracy                           0.24     53089\n",
      "   macro avg       0.23      0.21      0.20     53089\n",
      "weighted avg       0.24      0.24      0.22     53089\n",
      "\n"
     ]
    }
   ],
   "source": [
    "# evaluate lstm\n",
    "y_true = df_base[\"change_5_class6\"]\n",
    "y_pred = df_base[\"lstm\"]\n",
    "judge = classification_report(y_true, y_pred)\n",
    "print(judge)"
   ]
  },
  {
   "cell_type": "code",
   "execution_count": 40,
   "metadata": {},
   "outputs": [
    {
     "name": "stdout",
     "output_type": "stream",
     "text": [
      "              precision    recall  f1-score   support\n",
      "\n",
      "           1       0.25      0.04      0.07      4759\n",
      "           2       0.23      0.31      0.26     11484\n",
      "           3       0.27      0.18      0.22     10911\n",
      "           4       0.27      0.39      0.32     10809\n",
      "           5       0.18      0.25      0.21      9405\n",
      "           6       0.16      0.04      0.07      5721\n",
      "\n",
      "    accuracy                           0.23     53089\n",
      "   macro avg       0.23      0.20      0.19     53089\n",
      "weighted avg       0.23      0.23      0.22     53089\n",
      "\n"
     ]
    }
   ],
   "source": [
    "# evaluate resnet\n",
    "y_true = df_base[\"change_5_class6\"]\n",
    "y_pred = df_base[\"resnet\"]\n",
    "judge = classification_report(y_true, y_pred)\n",
    "print(judge)"
   ]
  },
  {
   "cell_type": "code",
   "execution_count": 41,
   "metadata": {},
   "outputs": [
    {
     "name": "stdout",
     "output_type": "stream",
     "text": [
      "              precision    recall  f1-score   support\n",
      "\n",
      "           1       0.28      0.04      0.08      4759\n",
      "           2       0.25      0.20      0.22     11484\n",
      "           3       0.22      0.46      0.30     10911\n",
      "           4       0.25      0.39      0.31     10809\n",
      "           5       0.20      0.07      0.10      9405\n",
      "           6       0.18      0.00      0.00      5721\n",
      "\n",
      "    accuracy                           0.23     53089\n",
      "   macro avg       0.23      0.19      0.17     53089\n",
      "weighted avg       0.23      0.23      0.20     53089\n",
      "\n"
     ]
    }
   ],
   "source": [
    "# evaluate ensemble\n",
    "y_true = df_base[\"change_5_class6\"]\n",
    "y_pred = df_base[\"ensemble\"]\n",
    "judge = classification_report(y_true, y_pred)\n",
    "print(judge)"
   ]
  },
  {
   "cell_type": "code",
   "execution_count": 44,
   "metadata": {},
   "outputs": [],
   "source": [
    "date_list = df_base[\"date\"].unique().tolist()\n",
    "date_list_5 = []\n",
    "date_list_5_buy = []\n",
    "count = 0\n",
    "for i in date_list:\n",
    "    if (count % 5) == 0:\n",
    "        date_list_5.append(i)\n",
    "    if ((count-1) % 5) == 0:\n",
    "        date_list_5_buy.append(i)\n",
    "    count += 1"
   ]
  },
  {
   "cell_type": "code",
   "execution_count": 46,
   "metadata": {},
   "outputs": [],
   "source": [
    "# change the tail\n",
    "def stock_tail(series):\n",
    "    if  series[-1:] == \"E\":\n",
    "        return series[:-4]+\"SZ\"\n",
    "    if  series[-1:] == \"G\":\n",
    "        return series[:-4]+\"SH\""
   ]
  },
  {
   "cell_type": "code",
   "execution_count": 47,
   "metadata": {},
   "outputs": [],
   "source": [
    "df3 = df_base.copy()\n",
    "df3 = df3[df3[\"date\"].isin(date_list_5)]\n",
    "df3 = df3[df3[\"ensemble\"].isin([5,6])]\n",
    "df3 = df3.reset_index(drop=True)\n",
    "df3[\"new_code\"] = df3.apply(lambda x:stock_tail(x[\"code\"]),axis = 1)"
   ]
  },
  {
   "cell_type": "code",
   "execution_count": 53,
   "metadata": {},
   "outputs": [],
   "source": [
    "import random\n",
    "buy_dict = {}\n",
    "for i in range(36):\n",
    "    try:\n",
    "        random_list = random.sample(df3[df3[\"date\"] == date_list_5[i]][\"new_code\"].tolist(),10)\n",
    "    except:\n",
    "        buy_dict[date_list_5_buy[i]] =[]\n",
    "    buy_dict[date_list_5_buy[i]] = random_list"
   ]
  },
  {
   "cell_type": "code",
   "execution_count": 55,
   "metadata": {},
   "outputs": [
    {
     "name": "stdout",
     "output_type": "stream",
     "text": [
      "{'2021-01-05': ['601933.SH', '600085.SH'], '2021-01-12': ['000012.SZ', '600079.SH', '600754.SH', '600196.SH', '601216.SH', '000869.SZ', '300033.SZ', '600739.SH', '000423.SZ', '601336.SH'], '2021-01-19': ['601336.SH', '601021.SH', '002304.SZ', '000869.SZ', '600276.SH', '600066.SH', '000625.SZ', '600340.SH', '600600.SH', '601888.SH'], '2021-01-26': ['601216.SH', '002465.SZ', '601238.SH', '300253.SZ', '002456.SZ', '000651.SZ', '601099.SH', '000800.SZ', '600066.SH', '600271.SH'], '2021-02-02': ['002179.SZ', '002241.SZ', '600685.SH', '002049.SZ', '002065.SZ', '600418.SH', '002465.SZ', '002081.SZ', '600739.SH', '002456.SZ'], '2021-02-09': ['600741.SH', '002373.SZ', '000012.SZ', '002399.SZ', '600157.SH', '600588.SH', '002030.SZ', '600703.SH', '002475.SZ', '002223.SZ'], '2021-02-23': ['002410.SZ', '600038.SH', '000625.SZ', '600340.SH', '000333.SZ', '600741.SH', '600660.SH', '600893.SH', '002475.SZ', '600690.SH'], '2021-03-02': ['002444.SZ', '300124.SZ', '000895.SZ', '002475.SZ', '300168.SZ', '002399.SZ', '600588.SH', '600862.SH', '600038.SH', '600827.SH'], '2021-03-09': ['002385.SZ', '002508.SZ', '000625.SZ', '002013.SZ', '002466.SZ', '000547.SZ', '601919.SH', '002493.SZ', '600660.SH', '300124.SZ'], '2021-03-16': ['002030.SZ', '600436.SH', '603288.SH', '002465.SZ', '600690.SH', '300015.SZ', '601012.SH', '002304.SZ', '601628.SH', '002353.SZ'], '2021-03-23': ['600309.SH', '002456.SZ', '603288.SH', '600584.SH', '601012.SH', '002475.SZ', '601633.SH', '000858.SZ', '603993.SH', '600862.SH'], '2021-03-30': ['600309.SH', '002456.SZ', '603288.SH', '600584.SH', '601012.SH', '002475.SZ', '601633.SH', '000858.SZ', '603993.SH', '600862.SH'], '2021-04-07': ['600309.SH', '002456.SZ', '603288.SH', '600584.SH', '601012.SH', '002475.SZ', '601633.SH', '000858.SZ', '603993.SH', '600862.SH'], '2021-04-14': ['000963.SZ', '600745.SH', '600031.SH', '601012.SH', '600372.SH', '600699.SH', '600584.SH', '601633.SH', '002304.SZ', '000977.SZ'], '2021-04-21': ['000963.SZ', '600745.SH', '600031.SH', '601012.SH', '600372.SH', '600699.SH', '600584.SH', '601633.SH', '002304.SZ', '000977.SZ'], '2021-04-28': ['000333.SZ', '000338.SZ', '601808.SH', '601601.SH', '000066.SZ', '002353.SZ', '002153.SZ', '300059.SZ', '600031.SH', '600584.SH'], '2021-05-10': ['002179.SZ', '601933.SH', '000157.SZ', '600009.SH', '000066.SZ', '600893.SH', '601231.SH', '300144.SZ', '000876.SZ', '300253.SZ'], '2021-05-17': ['002179.SZ', '601933.SH', '000157.SZ', '600009.SH', '000066.SZ', '600893.SH', '601231.SH', '300144.SZ', '000876.SZ', '300253.SZ'], '2021-05-24': ['000069.SZ', '600745.SH', '601601.SH', '600685.SH', '002008.SZ', '601166.SH', '002294.SZ', '600009.SH', '600362.SH', '000876.SZ'], '2021-05-31': ['000069.SZ', '600745.SH', '601601.SH', '600685.SH', '002008.SZ', '601166.SH', '002294.SZ', '600009.SH', '600362.SH', '000876.SZ'], '2021-06-07': ['002410.SZ', '000039.SZ', '002152.SZ', '601231.SH', '300253.SZ', '600690.SH', '600845.SH', '600079.SH', '300122.SZ', '600166.SH'], '2021-06-15': ['000069.SZ', '600143.SH', '000100.SZ', '600160.SH', '600009.SH', '600690.SH', '600079.SH', '000869.SZ', '601231.SH', '000157.SZ'], '2021-06-22': ['600176.SH', '000157.SZ', '002714.SZ', '600019.SH', '601899.SH', '600754.SH', '600406.SH', '601888.SH', '002385.SZ', '603288.SH'], '2021-06-29': ['600176.SH', '000157.SZ', '002714.SZ', '600019.SH', '601899.SH', '600754.SH', '600406.SH', '601888.SH', '002385.SZ', '603288.SH'], '2021-07-06': ['002714.SZ', '002153.SZ', '000027.SZ', '000001.SZ', '300122.SZ', '600276.SH', '300146.SZ', '600660.SH', '002304.SZ', '603288.SH'], '2021-07-13': ['600036.SH', '600315.SH', '002311.SZ', '603288.SH', '600655.SH', '000513.SZ', '002142.SZ', '600079.SH', '000001.SZ', '000858.SZ'], '2021-07-20': ['300033.SZ', '000001.SZ', '600079.SH', '002594.SZ', '000513.SZ', '600741.SH', '000963.SZ', '000027.SZ', '002353.SZ', '000157.SZ'], '2021-07-27': ['000513.SZ', '000858.SZ', '002410.SZ', '600201.SH', '600600.SH', '000002.SZ', '000157.SZ', '000027.SZ', '002714.SZ', '000001.SZ'], '2021-08-03': ['002311.SZ', '000001.SZ', '000538.SZ', '601021.SH', '002444.SZ', '600754.SH', '000858.SZ', '300122.SZ', '600827.SH', '002024.SZ'], '2021-08-10': ['000513.SZ', '002294.SZ', '600549.SH', '300253.SZ', '600309.SH', '300168.SZ', '600380.SH', '600436.SH', '300015.SZ', '000858.SZ'], '2021-08-17': ['603288.SH', '300251.SZ', '600660.SH', '000540.SZ', '002690.SZ', '600519.SH', '002230.SZ', '600276.SH', '300122.SZ', '002475.SZ'], '2021-08-24': ['601888.SH', '600660.SH', '002385.SZ', '000895.SZ', '600276.SH', '600380.SH', '600519.SH', '600085.SH', '002223.SZ', '002508.SZ'], '2021-08-31': ['000963.SZ', '000895.SZ', '002294.SZ', '000876.SZ', '002508.SZ', '002405.SZ', '002007.SZ', '600143.SH', '600585.SH', '002415.SZ'], '2021-09-07': ['000963.SZ', '000895.SZ', '002294.SZ', '000876.SZ', '002508.SZ', '002405.SZ', '002007.SZ', '600143.SH', '600585.SH', '002415.SZ'], '2021-09-14': ['000963.SZ', '000895.SZ', '002294.SZ', '000876.SZ', '002508.SZ', '002405.SZ', '002007.SZ', '600143.SH', '600585.SH', '002415.SZ'], '2021-09-23': ['600893.SH', '600845.SH', '600699.SH', '601238.SH', '300168.SZ', '000656.SZ', '002444.SZ', '600418.SH', '601933.SH', '600315.SH']}\n"
     ]
    }
   ],
   "source": [
    "print(buy_dict)"
   ]
  },
  {
   "cell_type": "code",
   "execution_count": null,
   "metadata": {},
   "outputs": [],
   "source": []
  }
 ],
 "metadata": {
  "kernelspec": {
   "display_name": "Python 3",
   "language": "python",
   "name": "python3"
  },
  "language_info": {
   "codemirror_mode": {
    "name": "ipython",
    "version": 3
   },
   "file_extension": ".py",
   "mimetype": "text/x-python",
   "name": "python",
   "nbconvert_exporter": "python",
   "pygments_lexer": "ipython3",
   "version": "3.7.6"
  }
 },
 "nbformat": 4,
 "nbformat_minor": 4
}
