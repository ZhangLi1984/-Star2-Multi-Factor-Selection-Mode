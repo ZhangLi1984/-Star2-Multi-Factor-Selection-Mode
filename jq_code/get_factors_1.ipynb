{
 "cells": [
  {
   "cell_type": "code",
   "execution_count": 3,
   "metadata": {},
   "outputs": [],
   "source": [
    "import pandas as pd\n",
    "import numpy as np\n",
    "from jqfactor import get_factor_values\n",
    "from jqfactor import get_all_factors \n",
    "from jqdata import finance\n",
    "from tqdm import tqdm"
   ]
  },
  {
   "cell_type": "code",
   "execution_count": 4,
   "metadata": {},
   "outputs": [],
   "source": [
    "# factor_list \n",
    "factor_list = []"
   ]
  },
  {
   "cell_type": "code",
   "execution_count": 5,
   "metadata": {},
   "outputs": [],
   "source": [
    "# set the time line\n",
    "start_date = \"2016-01-01\"\n",
    "test_end_date = \"2021-09-30\""
   ]
  },
  {
   "cell_type": "code",
   "execution_count": 6,
   "metadata": {},
   "outputs": [
    {
     "name": "stdout",
     "output_type": "stream",
     "text": [
      "number of stocks: 300\n"
     ]
    }
   ],
   "source": [
    "stock_list = ['600016.XSHG', '600030.XSHG', '601633.XSHG', '601788.XSHG', '600739.XSHG', '603288.XSHG', '601018.XSHG', '600176.XSHG', '600309.XSHG', '601336.XSHG', '600588.XSHG', '600085.XSHG', '601111.XSHG', '600019.XSHG', '600118.XSHG', '601880.XSHG', '000539.XSHE', '601288.XSHG', '002690.XSHE', '002236.XSHE', '601186.XSHG', '000999.XSHE', '601866.XSHG', '000050.XSHE', '601991.XSHG', '000425.XSHE', '600377.XSHG', '600584.XSHG', '002373.XSHE', '600893.XSHG', '000729.XSHE', '600570.XSHG', '002508.XSHE', '002030.XSHE', '000686.XSHE', '600160.XSHG', '300408.XSHE', '600808.XSHG', '600000.XSHG', '000783.XSHE', '600188.XSHG', '300059.XSHE', '601390.XSHG', '000338.XSHE', '600036.XSHG', '000333.XSHE', '600598.XSHG', '600690.XSHG', '601166.XSHG', '600795.XSHG', '600153.XSHG', '600845.XSHG', '601618.XSHG', '600663.XSHG', '601216.XSHG', '002179.XSHE', '600398.XSHG', '600008.XSHG', '600276.XSHG', '600998.XSHG', '601555.XSHG', '601088.XSHG', '600050.XSHG', '002603.XSHE', '300070.XSHE', '000963.XSHE', '002714.XSHE', '000898.XSHE', '002493.XSHE', '300122.XSHE', '601988.XSHG', '600535.XSHG', '601989.XSHG', '600406.XSHG', '600009.XSHG', '600028.XSHG', '601021.XSHG', '002153.XSHE', '600362.XSHG', '000728.XSHE', '601898.XSHG', '002410.XSHE', '600674.XSHG', '601519.XSHG', '601009.XSHG', '000568.XSHE', '600688.XSHG', '603993.XSHG', '600887.XSHG', '002202.XSHE', '000768.XSHE', '600166.XSHG', '601901.XSHG', '601808.XSHG', '601766.XSHG', '000166.XSHE', '000651.XSHE', '300015.XSHE', '002024.XSHE', '601601.XSHG', '002013.XSHE', '002008.XSHE', '600489.XSHG', '600867.XSHG', '601668.XSHG', '600637.XSHG', '000656.XSHE', '600015.XSHG', '600704.XSHG', '002252.XSHE', '002465.XSHE', '601628.XSHG', '600170.XSHG', '600999.XSHG', '601179.XSHG', '601872.XSHG', '002422.XSHE', '000738.XSHE', '000998.XSHE', '002304.XSHE', '000540.XSHE', '002353.XSHE', '600578.XSHG', '002385.XSHE', '002456.XSHE', '002439.XSHE', '601318.XSHG', '600023.XSHG', '601099.XSHG', '000792.XSHE', '000100.XSHE', '600754.XSHG', '000869.XSHE', '600027.XSHG', '601012.XSHG', '000538.XSHE', '600038.XSHG', '002007.XSHE', '000883.XSHE', '600737.XSHG', '600315.XSHG', '601933.XSHG', '600380.XSHG', '002466.XSHE', '601006.XSHG', '000709.XSHE', '300003.XSHE', '600026.XSHG', '300124.XSHE', '002142.XSHE', '600418.XSHG', '000977.XSHE', '002500.XSHE', '601377.XSHG', '601669.XSHG', '600837.XSHG', '601958.XSHG', '000750.XSHE', '601600.XSHG', '600048.XSHG', '600143.XSHG', '600061.XSHG', '000157.XSHE', '000547.XSHE', '601398.XSHG', '002405.XSHE', '600612.XSHG', '600104.XSHG', '002444.XSHE', '600340.XSHG', '002129.XSHE', '002131.XSHE', '601231.XSHG', '600018.XSHG', '600875.XSHG', '601225.XSHG', '601238.XSHG', '002049.XSHE', '600109.XSHG', '000039.XSHE', '600741.XSHG', '002081.XSHE', '600886.XSHG', '600236.XSHG', '000027.XSHE', '601198.XSHG', '000630.XSHE', '002152.XSHE', '601818.XSHG', '600642.XSHG', '002146.XSHE', '600383.XSHG', '600655.XSHG', '000423.XSHE', '600660.XSHG', '002065.XSHE', '300253.XSHE', '600703.XSHG', '600436.XSHG', '600066.XSHG', '600177.XSHG', '601169.XSHG', '600369.XSHG', '601899.XSHG', '601328.XSHG', '600201.XSHG', '603019.XSHG', '000876.XSHE', '600350.XSHG', '600958.XSHG', '600089.XSHG', '002399.XSHE', '300033.XSHE', '002340.XSHE', '601888.XSHG', '600208.XSHG', '601939.XSHG', '600585.XSHG', '002563.XSHE', '600079.XSHG', '600862.XSHG', '600745.XSHG', '601857.XSHG', '601688.XSHG', '601106.XSHG', '000012.XSHE', '002223.XSHE', '002475.XSHE', '601607.XSHG', '600221.XSHG', '600150.XSHG', '600031.XSHG', '600519.XSHG', '002673.XSHE', '600196.XSHG', '600115.XSHG', '002594.XSHE', '601727.XSHG', '600516.XSHG', '600871.XSHG', '000858.XSHE', '600271.XSHG', '600029.XSHG', '600068.XSHG', '300168.XSHE', '600600.XSHG', '002230.XSHE', '601877.XSHG', '601117.XSHG', '002241.XSHE', '000581.XSHE', '600372.XSHG', '600705.XSHG', '002415.XSHE', '600111.XSHG', '601118.XSHG', '600010.XSHG', '000625.XSHE', '600900.XSHG', '600827.XSHG', '600549.XSHG', '000725.XSHE', '002429.XSHE', '002075.XSHE', '000671.XSHE', '600415.XSHG', '002311.XSHE', '601777.XSHG', '000895.XSHE', '600685.XSHG', '601919.XSHG', '000776.XSHE', '000069.XSHE', '002736.XSHE', '600895.XSHG', '601800.XSHG', '600011.XSHG', '600332.XSHG', '600699.XSHG', '300144.XSHE', '600157.XSHG', '601158.XSHG', '600522.XSHG', '000513.XSHE', '600498.XSHG', '300146.XSHE', '000066.XSHE', '000800.XSHE', '300251.XSHE', '601998.XSHG', '000002.XSHE', '000001.XSHE', '000825.XSHE', '603806.XSHG', '600482.XSHG', '600352.XSHG', '000063.XSHE', '002294.XSHE', '601992.XSHG', '600547.XSHG']\n",
    "print(\"number of stocks:\",len(stock_list))"
   ]
  },
  {
   "cell_type": "code",
   "execution_count": 7,
   "metadata": {},
   "outputs": [
    {
     "name": "stdout",
     "output_type": "stream",
     "text": [
      "the number of trade days: 1400\n"
     ]
    }
   ],
   "source": [
    "# get the trade day\n",
    "df_tmp = get_price('000001.XSHG', start_date = start_date, end_date = test_end_date, frequency='daily')\n",
    "trade_day_list = df_tmp.index.astype(\"str\").tolist()\n",
    "print(\"the number of trade days:\",len(trade_day_list))"
   ]
  },
  {
   "cell_type": "code",
   "execution_count": 8,
   "metadata": {},
   "outputs": [],
   "source": [
    "# get the factors\n",
    "# because of the limitation, the situation is extremly complex"
   ]
  },
  {
   "cell_type": "code",
   "execution_count": 9,
   "metadata": {},
   "outputs": [],
   "source": [
    "df_factor = pd.read_excel(\"data_store/factors_1.xls\")"
   ]
  },
  {
   "cell_type": "code",
   "execution_count": 10,
   "metadata": {},
   "outputs": [
    {
     "data": {
      "text/html": [
       "<div>\n",
       "<style scoped>\n",
       "    .dataframe tbody tr th:only-of-type {\n",
       "        vertical-align: middle;\n",
       "    }\n",
       "\n",
       "    .dataframe tbody tr th {\n",
       "        vertical-align: top;\n",
       "    }\n",
       "\n",
       "    .dataframe thead th {\n",
       "        text-align: right;\n",
       "    }\n",
       "</style>\n",
       "<table border=\"1\" class=\"dataframe\">\n",
       "  <thead>\n",
       "    <tr style=\"text-align: right;\">\n",
       "      <th></th>\n",
       "      <th>factor</th>\n",
       "      <th>factor_intro</th>\n",
       "      <th>category</th>\n",
       "      <th>category_intro</th>\n",
       "    </tr>\n",
       "  </thead>\n",
       "  <tbody>\n",
       "    <tr>\n",
       "      <th>1</th>\n",
       "      <td>AR</td>\n",
       "      <td>人气指标</td>\n",
       "      <td>emotion</td>\n",
       "      <td>情绪类因子</td>\n",
       "    </tr>\n",
       "    <tr>\n",
       "      <th>2</th>\n",
       "      <td>ARBR</td>\n",
       "      <td>ARBR</td>\n",
       "      <td>emotion</td>\n",
       "      <td>情绪类因子</td>\n",
       "    </tr>\n",
       "    <tr>\n",
       "      <th>3</th>\n",
       "      <td>ATR14</td>\n",
       "      <td>14日均幅指标</td>\n",
       "      <td>emotion</td>\n",
       "      <td>情绪类因子</td>\n",
       "    </tr>\n",
       "    <tr>\n",
       "      <th>4</th>\n",
       "      <td>ATR6</td>\n",
       "      <td>6日均幅指标</td>\n",
       "      <td>emotion</td>\n",
       "      <td>情绪类因子</td>\n",
       "    </tr>\n",
       "    <tr>\n",
       "      <th>5</th>\n",
       "      <td>BR</td>\n",
       "      <td>意愿指标</td>\n",
       "      <td>emotion</td>\n",
       "      <td>情绪类因子</td>\n",
       "    </tr>\n",
       "  </tbody>\n",
       "</table>\n",
       "</div>"
      ],
      "text/plain": [
       "  factor factor_intro category category_intro\n",
       "1     AR         人气指标  emotion          情绪类因子\n",
       "2   ARBR         ARBR  emotion          情绪类因子\n",
       "3  ATR14      14日均幅指标  emotion          情绪类因子\n",
       "4   ATR6       6日均幅指标  emotion          情绪类因子\n",
       "5     BR         意愿指标  emotion          情绪类因子"
      ]
     },
     "execution_count": 10,
     "metadata": {},
     "output_type": "execute_result"
    }
   ],
   "source": [
    "df_factor.head()"
   ]
  },
  {
   "cell_type": "code",
   "execution_count": 11,
   "metadata": {},
   "outputs": [
    {
     "name": "stdout",
     "output_type": "stream",
     "text": [
      "number of factors_1: 100\n"
     ]
    }
   ],
   "source": [
    "# get the factor_list_1 \n",
    "factor_list_list1 = df_factor[\"factor\"].tolist()\n",
    "print(\"number of factors_1:\",len(factor_list_list1))"
   ]
  },
  {
   "cell_type": "code",
   "execution_count": 12,
   "metadata": {},
   "outputs": [],
   "source": [
    "import pickle\n",
    "\n",
    "def save_obj(obj,name):\n",
    "    with open(name + '.pkl', 'wb') as f:\n",
    "        pickle.dump(obj, f, pickle.HIGHEST_PROTOCOL)"
   ]
  },
  {
   "cell_type": "code",
   "execution_count": 13,
   "metadata": {},
   "outputs": [],
   "source": [
    "def load_obj(name):\n",
    "    with open(name + '.pkl', 'rb') as f:\n",
    "        return pickle.load(f)"
   ]
  },
  {
   "cell_type": "markdown",
   "metadata": {},
   "source": [
    "### Get Data (Part 1)"
   ]
  },
  {
   "cell_type": "code",
   "execution_count": null,
   "metadata": {
    "scrolled": true
   },
   "outputs": [],
   "source": [
    "# create the space to store the data\n",
    "dict_1 = {}\n",
    "# firstly, get the different factors\n",
    "for single_factor in tqdm(factor_list_list1[:]):\n",
    "    dict_1.update(get_factor_values(securities = stock_list, factors=[single_factor],\n",
    "                                  start_date=trade_day_list[0], end_date=trade_day_list[500]))\n",
    "    "
   ]
  },
  {
   "cell_type": "code",
   "execution_count": null,
   "metadata": {},
   "outputs": [],
   "source": [
    "save_obj(dict_1,'data_store/factor_data1_1')"
   ]
  },
  {
   "cell_type": "markdown",
   "metadata": {},
   "source": [
    "### Get Data (Part 2)"
   ]
  },
  {
   "cell_type": "code",
   "execution_count": null,
   "metadata": {},
   "outputs": [],
   "source": [
    "# create the space to store the data\n",
    "dict_2 = {}\n",
    "# firstly, get the different factors\n",
    "for single_factor in tqdm(factor_list_list1[:]):\n",
    "    dict_2.update(get_factor_values(securities = stock_list, factors=[single_factor],\n",
    "                                  start_date=trade_day_list[500], end_date=trade_day_list[1000]))\n",
    "    "
   ]
  },
  {
   "cell_type": "code",
   "execution_count": null,
   "metadata": {},
   "outputs": [],
   "source": [
    "save_obj(dict_2,'data_store/factor_data1_2')"
   ]
  },
  {
   "cell_type": "markdown",
   "metadata": {},
   "source": [
    "### Get Data (Part 3)"
   ]
  },
  {
   "cell_type": "code",
   "execution_count": 14,
   "metadata": {},
   "outputs": [
    {
     "name": "stderr",
     "output_type": "stream",
     "text": [
      "100%|██████████| 100/100 [08:58<00:00,  6.38s/it]\n"
     ]
    }
   ],
   "source": [
    "# create the space to store the data\n",
    "dict_3 = {}\n",
    "# firstly, get the different factors\n",
    "for single_factor in tqdm(factor_list_list1[:]):\n",
    "    dict_3.update(get_factor_values(securities = stock_list, factors=[single_factor],\n",
    "                                  start_date=trade_day_list[1000], end_date=trade_day_list[-1]))"
   ]
  },
  {
   "cell_type": "code",
   "execution_count": 15,
   "metadata": {},
   "outputs": [],
   "source": [
    "save_obj(dict_3,'data_store/factor_data1_3')"
   ]
  },
  {
   "cell_type": "code",
   "execution_count": null,
   "metadata": {},
   "outputs": [],
   "source": []
  }
 ],
 "metadata": {
  "kernelspec": {
   "display_name": "Python 3",
   "language": "python",
   "name": "python3"
  },
  "language_info": {
   "codemirror_mode": {
    "name": "ipython",
    "version": 3
   },
   "file_extension": ".py",
   "mimetype": "text/x-python",
   "name": "python",
   "nbconvert_exporter": "python",
   "pygments_lexer": "ipython3",
   "version": "3.6.7"
  },
  "toc": {
   "base_numbering": 1,
   "nav_menu": {},
   "number_sections": false,
   "sideBar": true,
   "skip_h1_title": false,
   "title_cell": "MarkDown菜单",
   "title_sidebar": "Contents",
   "toc_cell": false,
   "toc_position": {},
   "toc_section_display": true,
   "toc_window_display": false
  }
 },
 "nbformat": 4,
 "nbformat_minor": 2
}
