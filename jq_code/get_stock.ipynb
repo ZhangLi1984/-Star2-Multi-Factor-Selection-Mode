{
 "cells": [
  {
   "cell_type": "code",
   "execution_count": 1,
   "metadata": {},
   "outputs": [],
   "source": [
    "import pandas as pd\n",
    "import numpy as np\n",
    "from jqfactor import get_factor_values\n",
    "from jqdata import finance"
   ]
  },
  {
   "cell_type": "code",
   "execution_count": 2,
   "metadata": {},
   "outputs": [],
   "source": [
    "def filter_market_value_100(para_stock_list,para_date):\n",
    "    final_list = []\n",
    "    # get the info of market value\n",
    "    df = get_fundamentals(query(\n",
    "      valuation\n",
    "  ).filter(\n",
    "    # should use in_\n",
    "    valuation.market_cap > 200,\n",
    "    valuation.code.in_(para_stock_list)\n",
    "  ), date = para_date)\n",
    "    \n",
    "    # filter the list\n",
    "    final_list = df[\"code\"].tolist()\n",
    "    return final_list"
   ]
  },
  {
   "cell_type": "code",
   "execution_count": 3,
   "metadata": {},
   "outputs": [],
   "source": [
    "# get the stock list of shanghai and shenzhen\n",
    "indexs_sh = get_index_stocks('000001.XSHG', date=\"2016-01-01\")\n",
    "indexs_sz = get_index_stocks('399001.XSHE', date=\"2016-01-01\")\n",
    "\n",
    "# merge to stock list and ensure unique\n",
    "stock_list = list(set(indexs_sh + indexs_sz))"
   ]
  },
  {
   "cell_type": "code",
   "execution_count": 4,
   "metadata": {},
   "outputs": [],
   "source": [
    "# choose the stock which has more than 100 market value, keep unique\n",
    "stock_list = list(set(set(filter_market_value_100(stock_list,\"2016-01-01\")).intersection(set( \n",
    "                        filter_market_value_100(stock_list,\"2020-12-31\"))).intersection(set(\n",
    "                        filter_market_value_100(stock_list,\"2015-06-01\")))))"
   ]
  },
  {
   "cell_type": "code",
   "execution_count": 5,
   "metadata": {},
   "outputs": [
    {
     "name": "stdout",
     "output_type": "stream",
     "text": [
      "length_stock_list: 300\n"
     ]
    }
   ],
   "source": [
    "# print the length of stock_list\n",
    "print(\"length_stock_list:\",len(stock_list))"
   ]
  },
  {
   "cell_type": "code",
   "execution_count": 6,
   "metadata": {},
   "outputs": [
    {
     "name": "stdout",
     "output_type": "stream",
     "text": [
      "['002152.XSHE', '600862.XSHG', '000100.XSHE', '601336.XSHG', '600998.XSHG', '000750.XSHE', '600111.XSHG', '002422.XSHE', '000671.XSHE', '600369.XSHG', '600398.XSHG', '601788.XSHG', '601880.XSHG', '002353.XSHE', '600150.XSHG', '601118.XSHG', '601600.XSHG', '601633.XSHG', '300003.XSHE', '600157.XSHG', '600048.XSHG', '601390.XSHG', '601225.XSHG', '002007.XSHE', '601231.XSHG', '600153.XSHG', '600588.XSHG', '601018.XSHG', '002690.XSHE', '600061.XSHG', '601398.XSHG', '000547.XSHE', '601099.XSHG', '600535.XSHG', '600018.XSHG', '000895.XSHE', '601989.XSHG', '600612.XSHG', '300251.XSHE', '601898.XSHG', '600023.XSHG', '000630.XSHE', '600674.XSHG', '300070.XSHE', '600547.XSHG', '600703.XSHG', '000963.XSHE', '000539.XSHE', '601766.XSHG', '603019.XSHG', '300015.XSHE', '603993.XSHG', '002714.XSHE', '601328.XSHG', '601186.XSHG', '002508.XSHE', '600637.XSHG', '002153.XSHE', '600867.XSHG', '600015.XSHG', '002603.XSHE', '000858.XSHE', '601933.XSHG', '000825.XSHE', '002373.XSHE', '300253.XSHE', '300122.XSHE', '601901.XSHG', '300124.XSHE', '601158.XSHG', '601866.XSHG', '601688.XSHG', '600036.XSHG', '000876.XSHE', '600705.XSHG', '601519.XSHG', '600350.XSHG', '600009.XSHG', '002075.XSHE', '002563.XSHE', '300144.XSHE', '600690.XSHG', '000869.XSHE', '000423.XSHE', '600177.XSHG', '600886.XSHG', '601377.XSHG', '601198.XSHG', '600406.XSHG', '600352.XSHG', '601238.XSHG', '600895.XSHG', '000725.XSHE', '601607.XSHG', '600026.XSHG', '002399.XSHE', '002294.XSHE', '600600.XSHG', '002465.XSHE', '002081.XSHE', '002252.XSHE', '600704.XSHG', '002493.XSHE', '600741.XSHG', '600016.XSHG', '300059.XSHE', '601958.XSHG', '600011.XSHG', '000768.XSHE', '600236.XSHG', '600871.XSHG', '002049.XSHE', '600380.XSHG', '000333.XSHE', '600315.XSHG', '002179.XSHE', '600332.XSHG', '000656.XSHE', '601939.XSHG', '601899.XSHG', '600660.XSHG', '601117.XSHG', '000001.XSHE', '002241.XSHE', '002594.XSHE', '601888.XSHG', '601877.XSHG', '601006.XSHG', '600010.XSHG', '300033.XSHE', '000898.XSHE', '600570.XSHG', '601991.XSHG', '000738.XSHE', '600498.XSHG', '000027.XSHE', '600827.XSHG', '000709.XSHE', '300408.XSHE', '600085.XSHG', '000729.XSHE', '601818.XSHG', '600340.XSHG', '600999.XSHG', '002466.XSHE', '600655.XSHG', '002008.XSHE', '000783.XSHE', '002415.XSHE', '601021.XSHG', '601800.XSHG', '002673.XSHE', '600522.XSHG', '601919.XSHG', '601628.XSHG', '002142.XSHE', '601012.XSHG', '000686.XSHE', '002444.XSHE', '601009.XSHG', '601669.XSHG', '601106.XSHG', '600031.XSHG', '000039.XSHE', '600737.XSHG', '600688.XSHG', '600837.XSHG', '600383.XSHG', '002129.XSHE', '600196.XSHG', '000728.XSHE', '601872.XSHG', '002736.XSHE', '000999.XSHE', '601777.XSHG', '002202.XSHE', '002024.XSHE', '600436.XSHG', '600887.XSHG', '000651.XSHE', '002439.XSHE', '600362.XSHG', '000998.XSHE', '000069.XSHE', '000050.XSHE', '600900.XSHG', '600030.XSHG', '600745.XSHG', '600482.XSHG', '600516.XSHG', '000625.XSHE', '000800.XSHE', '600027.XSHG', '600176.XSHG', '002030.XSHE', '000568.XSHE', '600418.XSHG', '002405.XSHE', '600754.XSHG', '000166.XSHE', '002456.XSHE', '600699.XSHG', '600201.XSHG', '601988.XSHG', '600808.XSHG', '000977.XSHE', '601216.XSHG', '600066.XSHG', '600079.XSHG', '002146.XSHE', '600104.XSHG', '601166.XSHG', '002230.XSHE', '002236.XSHE', '600271.XSHG', '300168.XSHE', '000063.XSHE', '600000.XSHG', '600845.XSHG', '000338.XSHE', '002500.XSHE', '600118.XSHG', '600893.XSHG', '000883.XSHE', '601618.XSHG', '601318.XSHG', '600050.XSHG', '600028.XSHG', '600208.XSHG', '600170.XSHG', '600372.XSHG', '000776.XSHE', '000540.XSHE', '002410.XSHE', '600585.XSHG', '600115.XSHG', '600276.XSHG', '600188.XSHG', '000066.XSHE', '600415.XSHG', '601169.XSHG', '600109.XSHG', '000792.XSHE', '601111.XSHG', '000581.XSHE', '002013.XSHE', '600029.XSHG', '600685.XSHG', '600519.XSHG', '601727.XSHG', '601179.XSHG', '600160.XSHG', '600377.XSHG', '000002.XSHE', '600089.XSHG', '002340.XSHE', '600068.XSHG', '600008.XSHG', '600221.XSHG', '601555.XSHG', '002429.XSHE', '600598.XSHG', '600663.XSHG', '000012.XSHE', '002304.XSHE', '600739.XSHG', '002475.XSHE', '601668.XSHG', '000157.XSHE', '601808.XSHG', '601288.XSHG', '603288.XSHG', '002385.XSHE', '601857.XSHG', '600584.XSHG', '600875.XSHG', '600038.XSHG', '601998.XSHG', '600166.XSHG', '603806.XSHG', '600578.XSHG', '600549.XSHG', '000513.XSHE', '600958.XSHG', '002131.XSHE', '002223.XSHE', '000425.XSHE', '601088.XSHG', '601992.XSHG', '002065.XSHE', '600019.XSHG', '600795.XSHG', '600309.XSHG', '300146.XSHE', '002311.XSHE', '000538.XSHE', '601601.XSHG', '600143.XSHG', '600642.XSHG', '600489.XSHG']\n"
     ]
    }
   ],
   "source": [
    "# save to the list\n",
    "print(stock_list)"
   ]
  },
  {
   "cell_type": "code",
   "execution_count": 7,
   "metadata": {},
   "outputs": [],
   "source": [
    "# set the time line\n",
    "start_date = \"2016-01-01\"\n",
    "test_end_date = \"2021-09-30\""
   ]
  },
  {
   "cell_type": "code",
   "execution_count": 8,
   "metadata": {},
   "outputs": [
    {
     "name": "stderr",
     "output_type": "stream",
     "text": [
      "/opt/conda/lib/python3.6/site-packages/jqdata/apis/data.py:159: UserWarning: 不建议继续使用panel（panel将在pandas未来版本不再支持，将来升级pandas后，您的策略会失败），建议 get_price 传入 panel=False 参数\n",
      "  warnings.warn(\"不建议继续使用panel（panel将在pandas未来版本不再支持，将来升级pandas后，您的策略会失败），\"\n",
      "/opt/conda/lib/python3.6/site-packages/jqresearch/api.py:117: FutureWarning: \n",
      "Panel is deprecated and will be removed in a future version.\n",
      "The recommended way to represent these types of 3-dimensional data are with a MultiIndex on a DataFrame, via the Panel.to_frame() method\n",
      "Alternatively, you can use the xarray package http://xarray.pydata.org/en/stable/.\n",
      "Pandas provides a `.to_xarray()` method to help automate this conversion.\n",
      "\n",
      "  fill_paused=fill_paused)\n"
     ]
    }
   ],
   "source": [
    "# get the basic info of stock_list, prepare for generate y\n",
    "df_close = get_price(stock_list, start_date = start_date, end_date= test_end_date, \n",
    "                      frequency='daily', fields=None, skip_paused=False, fq='pre', panel=True)[\"close\"]"
   ]
  },
  {
   "cell_type": "code",
   "execution_count": 9,
   "metadata": {},
   "outputs": [
    {
     "data": {
      "text/plain": [
       "Index(['2016-01-04', '2016-01-05', '2016-01-06', '2016-01-07', '2016-01-08',\n",
       "       '2016-01-11', '2016-01-12', '2016-01-13', '2016-01-14', '2016-01-15',\n",
       "       ...\n",
       "       '2021-09-15', '2021-09-16', '2021-09-17', '2021-09-22', '2021-09-23',\n",
       "       '2021-09-24', '2021-09-27', '2021-09-28', '2021-09-29', '2021-09-30'],\n",
       "      dtype='object', name='index', length=1400)"
      ]
     },
     "execution_count": 9,
     "metadata": {},
     "output_type": "execute_result"
    }
   ],
   "source": [
    "# modify the data type of index\n",
    "df_close = df_close.reset_index(drop=False)\n",
    "df_close[\"index\"] = df_close[\"index\"].astype(\"str\")\n",
    "df_close = df_close.set_index('index')\n",
    "df_close.index"
   ]
  },
  {
   "cell_type": "code",
   "execution_count": 17,
   "metadata": {},
   "outputs": [],
   "source": [
    "# save as json\n",
    "df_close.to_json(\"./data_store/stock_close_price.json\")"
   ]
  },
  {
   "cell_type": "code",
   "execution_count": null,
   "metadata": {},
   "outputs": [],
   "source": []
  }
 ],
 "metadata": {
  "kernelspec": {
   "display_name": "Python 3",
   "language": "python",
   "name": "python3"
  },
  "language_info": {
   "codemirror_mode": {
    "name": "ipython",
    "version": 3
   },
   "file_extension": ".py",
   "mimetype": "text/x-python",
   "name": "python",
   "nbconvert_exporter": "python",
   "pygments_lexer": "ipython3",
   "version": "3.6.7"
  },
  "toc": {
   "base_numbering": 1,
   "nav_menu": {},
   "number_sections": false,
   "sideBar": true,
   "skip_h1_title": false,
   "title_cell": "MarkDown菜单",
   "title_sidebar": "Contents",
   "toc_cell": false,
   "toc_position": {},
   "toc_section_display": true,
   "toc_window_display": false
  }
 },
 "nbformat": 4,
 "nbformat_minor": 2
}
