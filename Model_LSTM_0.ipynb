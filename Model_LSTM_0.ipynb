{
 "cells": [
  {
   "cell_type": "code",
   "execution_count": 1,
   "metadata": {},
   "outputs": [],
   "source": [
    "import numpy as np\n",
    "from datetime import datetime\n",
    "import pandas as pd \n",
    "import time\n",
    "import os\n",
    "import matplotlib.pyplot as plt\n",
    "import matplotlib as mpl\n",
    "import json\n",
    "from tqdm import tqdm\n",
    "import warnings\n",
    "warnings.filterwarnings('ignore')"
   ]
  },
  {
   "cell_type": "code",
   "execution_count": 2,
   "metadata": {},
   "outputs": [
    {
     "name": "stdout",
     "output_type": "stream",
     "text": [
      "Client created using default project: fast-haiku-332223\n",
      "Bucket name: finance584\n",
      "Bucket location: US-EAST1\n",
      "Bucket storage class: STANDARD\n"
     ]
    }
   ],
   "source": [
    "from google.cloud import storage\n",
    "BUCKET = \"finance584\"\n",
    "client = storage.Client()\n",
    "print(\"Client created using default project: {}\".format(client.project))\n",
    "bucket = client.get_bucket(BUCKET)\n",
    "print(\"Bucket name: {}\".format(bucket.name))\n",
    "print(\"Bucket location: {}\".format(bucket.location))\n",
    "print(\"Bucket storage class: {}\".format(bucket.storage_class))"
   ]
  },
  {
   "cell_type": "code",
   "execution_count": 3,
   "metadata": {},
   "outputs": [],
   "source": [
    "# Load X and y\n",
    "import numpy as np\n",
    "from datetime import datetime\n",
    "import pandas as pd \n",
    "import time\n",
    "import os\n",
    "import matplotlib.pyplot as plt\n",
    "import matplotlib as mpl\n",
    "import json\n",
    "from tqdm import tqdm\n",
    "import warnings\n",
    "warnings.filterwarnings('ignore')\n",
    "\n",
    "blob = bucket.get_blob(\"data_store/cnn_df3_X.npy\")\n",
    "with blob.open(\"rb\") as f:\n",
    "    X = np.load(f)\n",
    "    \n",
    "blob = bucket.get_blob(\"data_store/cnn_df3_y.npy\")\n",
    "with blob.open(\"rb\") as f:\n",
    "    y = np.load(f)"
   ]
  },
  {
   "cell_type": "code",
   "execution_count": 4,
   "metadata": {},
   "outputs": [],
   "source": [
    "# Reshape X\n",
    "X = X.reshape([406789,40,40])\n",
    "y = y.reshape([406789])"
   ]
  },
  {
   "cell_type": "code",
   "execution_count": 5,
   "metadata": {},
   "outputs": [],
   "source": [
    "# items:406789\n",
    "# split to train and test\n",
    "# from 2016-01-04 to 2020-12-31; from 2021-01-04 to 2021-09-23\n",
    "X_train = X[:353700]\n",
    "y_train = y[:353700]\n",
    "X_test = X[353700:]\n",
    "y_test = y[353700:]\n",
    "# set validation\n",
    "X_val = X_train[-50000:]\n",
    "y_val = y_train[-50000:]\n",
    "X_train = X_train[:-50000]\n",
    "y_train = y_train[:-50000]\n",
    "# reshape again\n",
    "# X_train = X_train.reshape([1,303700,40,40,1])\n",
    "# y_train = y_train.reshape([1,303700,1])\n",
    "# X_val = X_val.reshape([1,50000,40,40,1])\n",
    "# y_val = y_val.reshape([1,50000,1])\n",
    "# X_test = X_test.reshape([1,53089,40,40,1])\n",
    "# y_test = y_test.reshape([1,53089,1])"
   ]
  },
  {
   "cell_type": "code",
   "execution_count": 6,
   "metadata": {},
   "outputs": [
    {
     "name": "stdout",
     "output_type": "stream",
     "text": [
      "X_train shape: (303700, 40, 40)\n",
      "y_train shape: (303700,)\n",
      "X_val shape: (50000, 40, 40)\n",
      "y_val shape: (50000,)\n",
      "X_test shape: (53089, 40, 40)\n",
      "y_test shape: (53089,)\n"
     ]
    }
   ],
   "source": [
    "# print the shape\n",
    "print(\"X_train shape:\",X_train.shape)\n",
    "print(\"y_train shape:\",y_train.shape)\n",
    "print(\"X_val shape:\",X_val.shape)\n",
    "print(\"y_val shape:\",y_val.shape)\n",
    "print(\"X_test shape:\",X_test.shape)\n",
    "print(\"y_test shape:\",y_test.shape)"
   ]
  },
  {
   "cell_type": "markdown",
   "metadata": {},
   "source": [
    "### Train"
   ]
  },
  {
   "cell_type": "code",
   "execution_count": 7,
   "metadata": {},
   "outputs": [],
   "source": [
    "import tensorflow as tf\n",
    "from tensorflow.keras import *\n",
    "from tensorflow import keras"
   ]
  },
  {
   "cell_type": "code",
   "execution_count": 8,
   "metadata": {},
   "outputs": [],
   "source": [
    "import numpy\n",
    "from keras.models import Sequential\n",
    "from keras.layers import Dense\n",
    "from keras.layers import LSTM\n",
    "from keras.layers.embeddings import Embedding\n",
    "from keras.preprocessing import sequence"
   ]
  },
  {
   "cell_type": "code",
   "execution_count": 9,
   "metadata": {},
   "outputs": [
    {
     "name": "stderr",
     "output_type": "stream",
     "text": [
      "2021-11-15 06:04:43.395803: I tensorflow/core/common_runtime/process_util.cc:146] Creating new thread pool with default inter op setting: 2. Tune using inter_op_parallelism_threads for best performance.\n"
     ]
    }
   ],
   "source": [
    "model = models.Sequential()\n",
    "model = Sequential()\n",
    "model.add(keras.Input(shape=(40,40)))\n",
    "model.add(LSTM(140,dropout=0.2,recurrent_dropout=0.2))\n",
    "model.add(Dense(72, activation='relu'))\n",
    "model.add(Dense(10, activation='relu'))\n",
    "model.add(layers.Dropout(0.2))\n",
    "model.add(layers.Dense(units=7, activation=\"sigmoid\"))"
   ]
  },
  {
   "cell_type": "code",
   "execution_count": 10,
   "metadata": {},
   "outputs": [
    {
     "name": "stdout",
     "output_type": "stream",
     "text": [
      "Model: \"sequential_1\"\n",
      "_________________________________________________________________\n",
      "Layer (type)                 Output Shape              Param #   \n",
      "=================================================================\n",
      "lstm (LSTM)                  (None, 140)               101360    \n",
      "_________________________________________________________________\n",
      "dense (Dense)                (None, 72)                10152     \n",
      "_________________________________________________________________\n",
      "dense_1 (Dense)              (None, 10)                730       \n",
      "_________________________________________________________________\n",
      "dropout (Dropout)            (None, 10)                0         \n",
      "_________________________________________________________________\n",
      "dense_2 (Dense)              (None, 7)                 77        \n",
      "=================================================================\n",
      "Total params: 112,319\n",
      "Trainable params: 112,319\n",
      "Non-trainable params: 0\n",
      "_________________________________________________________________\n"
     ]
    }
   ],
   "source": [
    "model.summary()"
   ]
  },
  {
   "cell_type": "code",
   "execution_count": 11,
   "metadata": {},
   "outputs": [],
   "source": [
    "# tf.keras.utils.plot_model(\n",
    "#     model,\n",
    "#     to_file=\"model.png\",\n",
    "#     show_shapes=True,\n",
    "#     show_layer_names=True,\n",
    "#     rankdir=\"TB\",\n",
    "#     expand_nested=True,\n",
    "#     dpi=80,\n",
    "# )"
   ]
  },
  {
   "cell_type": "code",
   "execution_count": 12,
   "metadata": {},
   "outputs": [],
   "source": [
    "# plot the loss and acc, set the callbacks\n",
    "# reference https://blog.csdn.net/wyx100/article/details/81096192\n",
    "class Hist_Callbacks(keras.callbacks.Callback):\n",
    "    def on_train_begin(self, logs={}):\n",
    "        self.losses = {'batch':[], 'epoch':[]}\n",
    "        self.accuracy = {'batch':[], 'epoch':[]}\n",
    "        self.val_loss = {'batch':[], 'epoch':[]}\n",
    "        self.val_acc = {'batch':[], 'epoch':[]}\n",
    " \n",
    "    def on_batch_end(self, batch, logs={}):\n",
    "        self.losses['batch'].append(logs.get('loss'))\n",
    "        self.accuracy['batch'].append(logs.get('accuracy'))\n",
    "        self.val_loss['batch'].append(logs.get('val_loss'))\n",
    "        self.val_acc['batch'].append(logs.get('val_accuracy'))\n",
    " \n",
    "    def on_epoch_end(self, batch, logs={}):\n",
    "        self.losses['epoch'].append(logs.get('loss'))\n",
    "        self.accuracy['epoch'].append(logs.get('accuracy'))\n",
    "        self.val_loss['epoch'].append(logs.get('val_loss'))\n",
    "        self.val_acc['epoch'].append(logs.get('val_accuracy'))\n",
    "        \n",
    "    def get_loss_and_acc(self):\n",
    "        call_list = {}\n",
    "        call_list[\"train_loss\"] = self.losses[\"epoch\"]\n",
    "        call_list[\"train_acc\"] = self.accuracy[\"epoch\"]\n",
    "        call_list[\"val_loss\"] = self.val_loss[\"epoch\"]\n",
    "        call_list[\"val_acc\"] = self.val_acc[\"epoch\"]\n",
    "        return call_list\n",
    "        \n",
    "    def loss_plot_loss(self, loss_type):\n",
    "        iters = range(len(self.losses[loss_type]))\n",
    "        plt.figure()\n",
    "        plt.title('Loss of Model')\n",
    "        plt.ylim(0,5)\n",
    "        # plot the loss, train\n",
    "        plt.plot(iters, self.losses[loss_type], 'r', label='train_loss')\n",
    "        # plot the loss, val\n",
    "        plt.plot(iters, self.val_loss[loss_type], 'b', label='val_loss')\n",
    "        plt.grid(True)\n",
    "        plt.xlabel(loss_type)\n",
    "        plt.ylabel('loss')\n",
    "        plt.legend(loc=\"upper right\")\n",
    "        plt.show()\n",
    "        \n",
    "    def loss_plot_acc(self, loss_type):\n",
    "        iters = range(len(self.losses[loss_type]))\n",
    "        plt.figure()\n",
    "        plt.title('Accuracy of Model')\n",
    "        plt.ylim(0, 1)\n",
    "        # plot the acc, train\n",
    "        plt.plot(iters, self.accuracy[loss_type], 'r', label='train_acc')\n",
    "        # plot the acc, val\n",
    "        plt.plot(iters, self.val_acc[loss_type], 'b', label='val_acc')\n",
    "        plt.grid(True)\n",
    "        plt.xlabel(loss_type)\n",
    "        plt.ylabel('acc')\n",
    "        plt.legend(loc=\"upper right\")\n",
    "        plt.show()"
   ]
  },
  {
   "cell_type": "code",
   "execution_count": 13,
   "metadata": {},
   "outputs": [],
   "source": [
    "# create history\n",
    "history = Hist_Callbacks()\n",
    "#opt = tf.keras.optimizers.SGD(learning_rate=0.9)\n",
    "#opt = \"adam\"\n",
    "#opt = keras.optimizers.Adam(learning_rate=0.3)\n",
    "opt = \"adam\"\n",
    "model.compile(optimizer=opt,\n",
    "              loss=tf.keras.losses.SparseCategoricalCrossentropy(from_logits=True),\n",
    "              metrics=['accuracy'])"
   ]
  },
  {
   "cell_type": "code",
   "execution_count": 14,
   "metadata": {},
   "outputs": [
    {
     "name": "stderr",
     "output_type": "stream",
     "text": [
      "2021-11-15 06:04:47.748011: I tensorflow/compiler/mlir/mlir_graph_optimization_pass.cc:185] None of the MLIR Optimization Passes are enabled (registered 2)\n"
     ]
    },
    {
     "name": "stdout",
     "output_type": "stream",
     "text": [
      "Epoch 1/10\n",
      "760/760 - 409s - loss: 1.6440 - accuracy: 0.2732 - val_loss: 1.6993 - val_accuracy: 0.2529\n",
      "Epoch 2/10\n",
      "760/760 - 396s - loss: 1.5702 - accuracy: 0.3028 - val_loss: 1.7350 - val_accuracy: 0.2502\n",
      "Epoch 3/10\n",
      "760/760 - 376s - loss: 1.5269 - accuracy: 0.3244 - val_loss: 1.7490 - val_accuracy: 0.2453\n",
      "Epoch 4/10\n",
      "760/760 - 364s - loss: 1.4962 - accuracy: 0.3417 - val_loss: 1.7725 - val_accuracy: 0.2432\n",
      "Epoch 5/10\n",
      "760/760 - 368s - loss: 1.4719 - accuracy: 0.3549 - val_loss: 1.7981 - val_accuracy: 0.2393\n",
      "Epoch 6/10\n",
      "760/760 - 368s - loss: 1.4539 - accuracy: 0.3644 - val_loss: 1.7758 - val_accuracy: 0.2471\n",
      "Epoch 7/10\n",
      "760/760 - 372s - loss: 1.4366 - accuracy: 0.3740 - val_loss: 1.8008 - val_accuracy: 0.2457\n",
      "Epoch 8/10\n",
      "760/760 - 370s - loss: 1.4232 - accuracy: 0.3812 - val_loss: 1.8499 - val_accuracy: 0.2323\n",
      "Epoch 9/10\n",
      "760/760 - 369s - loss: 1.4126 - accuracy: 0.3847 - val_loss: 1.8410 - val_accuracy: 0.2463\n",
      "Epoch 10/10\n",
      "760/760 - 370s - loss: 1.4032 - accuracy: 0.3894 - val_loss: 1.8519 - val_accuracy: 0.2438\n"
     ]
    },
    {
     "data": {
      "text/plain": [
       "<keras.callbacks.History at 0x7f07200fdf10>"
      ]
     },
     "execution_count": 14,
     "metadata": {},
     "output_type": "execute_result"
    }
   ],
   "source": [
    "model.fit(X_train, y_train, epochs=10,batch_size=400,verbose =2,\n",
    "                    validation_data=(X_val, y_val), callbacks = [history])"
   ]
  },
  {
   "cell_type": "code",
   "execution_count": 15,
   "metadata": {},
   "outputs": [
    {
     "name": "stderr",
     "output_type": "stream",
     "text": [
      "2021-11-15 07:07:28.938276: W tensorflow/python/util/util.cc:348] Sets are not currently considered sequences, but this may change in the future, so consider avoiding using them.\n"
     ]
    },
    {
     "name": "stdout",
     "output_type": "stream",
     "text": [
      "INFO:tensorflow:Assets written to: model/lstm_model/assets\n"
     ]
    }
   ],
   "source": [
    "# save the model\n",
    "model.save('model/lstm_model')"
   ]
  },
  {
   "cell_type": "markdown",
   "metadata": {},
   "source": [
    "### Evaluate"
   ]
  },
  {
   "cell_type": "code",
   "execution_count": 16,
   "metadata": {},
   "outputs": [
    {
     "name": "stdout",
     "output_type": "stream",
     "text": [
      "Test score of train dataset: 1.3305140733718872\n",
      "Test accuracy of train dataset: 0.4240434765815735\n",
      "Test score of validation dataset: 1.8519210815429688\n",
      "Test accuracy of validation dataset: 0.24376000463962555\n"
     ]
    }
   ],
   "source": [
    "# evaluate train and val\n",
    "score = model.evaluate(X_train, y_train, verbose=0)\n",
    "print('Test score of train dataset:', score[0])\n",
    "print('Test accuracy of train dataset:', score[1])\n",
    "score = model.evaluate(X_val, y_val, verbose=0)\n",
    "print('Test score of validation dataset:', score[0])\n",
    "print('Test accuracy of validation dataset:', score[1])"
   ]
  },
  {
   "cell_type": "code",
   "execution_count": 17,
   "metadata": {},
   "outputs": [
    {
     "data": {
      "image/png": "[encoded data removed]",
      "text/plain": [
       "<Figure size 432x288 with 1 Axes>"
      ]
     },
     "metadata": {
      "needs_background": "light"
     },
     "output_type": "display_data"
    },
    {
     "data": {
      "image/png": "[encoded data removed]",
      "text/plain": [
       "<Figure size 432x288 with 1 Axes>"
      ]
     },
     "metadata": {
      "needs_background": "light"
     },
     "output_type": "display_data"
    }
   ],
   "source": [
    "# plot the loss and accuracy of train and val \n",
    "loss_type = \"epoch\"\n",
    "history.loss_plot_loss(loss_type)\n",
    "history.loss_plot_acc(loss_type)"
   ]
  },
  {
   "cell_type": "code",
   "execution_count": 18,
   "metadata": {},
   "outputs": [
    {
     "name": "stdout",
     "output_type": "stream",
     "text": [
      "Test score of test dataset: 1.8572584390640259\n",
      "Test accuracy of test dataset: 0.2369040697813034\n"
     ]
    }
   ],
   "source": [
    "# evaluate test data\n",
    "score = model.evaluate(X_test, y_test, verbose=0)\n",
    "print('Test score of test dataset:', score[0])\n",
    "print('Test accuracy of test dataset:', score[1])"
   ]
  },
  {
   "cell_type": "code",
   "execution_count": 19,
   "metadata": {},
   "outputs": [
    {
     "data": {
      "text/html": [
       "<div>\n",
       "<style scoped>\n",
       "    .dataframe tbody tr th:only-of-type {\n",
       "        vertical-align: middle;\n",
       "    }\n",
       "\n",
       "    .dataframe tbody tr th {\n",
       "        vertical-align: top;\n",
       "    }\n",
       "\n",
       "    .dataframe thead th {\n",
       "        text-align: right;\n",
       "    }\n",
       "</style>\n",
       "<table border=\"1\" class=\"dataframe\">\n",
       "  <thead>\n",
       "    <tr style=\"text-align: right;\">\n",
       "      <th></th>\n",
       "      <th>train_loss</th>\n",
       "      <th>train_acc</th>\n",
       "      <th>val_loss</th>\n",
       "      <th>val_acc</th>\n",
       "    </tr>\n",
       "  </thead>\n",
       "  <tbody>\n",
       "    <tr>\n",
       "      <th>0</th>\n",
       "      <td>1.644047</td>\n",
       "      <td>0.273194</td>\n",
       "      <td>1.699276</td>\n",
       "      <td>0.25294</td>\n",
       "    </tr>\n",
       "    <tr>\n",
       "      <th>1</th>\n",
       "      <td>1.570164</td>\n",
       "      <td>0.302832</td>\n",
       "      <td>1.735023</td>\n",
       "      <td>0.25016</td>\n",
       "    </tr>\n",
       "    <tr>\n",
       "      <th>2</th>\n",
       "      <td>1.526942</td>\n",
       "      <td>0.324369</td>\n",
       "      <td>1.748957</td>\n",
       "      <td>0.24528</td>\n",
       "    </tr>\n",
       "    <tr>\n",
       "      <th>3</th>\n",
       "      <td>1.496221</td>\n",
       "      <td>0.341725</td>\n",
       "      <td>1.772540</td>\n",
       "      <td>0.24316</td>\n",
       "    </tr>\n",
       "    <tr>\n",
       "      <th>4</th>\n",
       "      <td>1.471947</td>\n",
       "      <td>0.354886</td>\n",
       "      <td>1.798055</td>\n",
       "      <td>0.23932</td>\n",
       "    </tr>\n",
       "    <tr>\n",
       "      <th>5</th>\n",
       "      <td>1.453868</td>\n",
       "      <td>0.364432</td>\n",
       "      <td>1.775766</td>\n",
       "      <td>0.24714</td>\n",
       "    </tr>\n",
       "    <tr>\n",
       "      <th>6</th>\n",
       "      <td>1.436586</td>\n",
       "      <td>0.374001</td>\n",
       "      <td>1.800832</td>\n",
       "      <td>0.24574</td>\n",
       "    </tr>\n",
       "    <tr>\n",
       "      <th>7</th>\n",
       "      <td>1.423212</td>\n",
       "      <td>0.381195</td>\n",
       "      <td>1.849935</td>\n",
       "      <td>0.23234</td>\n",
       "    </tr>\n",
       "    <tr>\n",
       "      <th>8</th>\n",
       "      <td>1.412586</td>\n",
       "      <td>0.384748</td>\n",
       "      <td>1.841018</td>\n",
       "      <td>0.24626</td>\n",
       "    </tr>\n",
       "    <tr>\n",
       "      <th>9</th>\n",
       "      <td>1.403170</td>\n",
       "      <td>0.389384</td>\n",
       "      <td>1.851921</td>\n",
       "      <td>0.24376</td>\n",
       "    </tr>\n",
       "  </tbody>\n",
       "</table>\n",
       "</div>"
      ],
      "text/plain": [
       "   train_loss  train_acc  val_loss  val_acc\n",
       "0    1.644047   0.273194  1.699276  0.25294\n",
       "1    1.570164   0.302832  1.735023  0.25016\n",
       "2    1.526942   0.324369  1.748957  0.24528\n",
       "3    1.496221   0.341725  1.772540  0.24316\n",
       "4    1.471947   0.354886  1.798055  0.23932\n",
       "5    1.453868   0.364432  1.775766  0.24714\n",
       "6    1.436586   0.374001  1.800832  0.24574\n",
       "7    1.423212   0.381195  1.849935  0.23234\n",
       "8    1.412586   0.384748  1.841018  0.24626\n",
       "9    1.403170   0.389384  1.851921  0.24376"
      ]
     },
     "execution_count": 19,
     "metadata": {},
     "output_type": "execute_result"
    }
   ],
   "source": [
    "# get the data\n",
    "call_return = history.get_loss_and_acc()\n",
    "call_return_df = pd.DataFrame(call_return)\n",
    "call_return_df"
   ]
  },
  {
   "cell_type": "code",
   "execution_count": 20,
   "metadata": {},
   "outputs": [
    {
     "name": "stdout",
     "output_type": "stream",
     "text": [
      "Requirement already satisfied: openpyxl in /opt/conda/lib/python3.7/site-packages (3.0.9)\n",
      "Requirement already satisfied: et-xmlfile in /opt/conda/lib/python3.7/site-packages (from openpyxl) (1.1.0)\n"
     ]
    }
   ],
   "source": [
    "# save the data\n",
    "! pip install openpyxl\n",
    "call_return_df.to_excel('lstm_loss_acc.xlsx')"
   ]
  },
  {
   "cell_type": "markdown",
   "metadata": {},
   "source": [
    "### Load Model And Print the Posibility"
   ]
  },
  {
   "cell_type": "code",
   "execution_count": 21,
   "metadata": {},
   "outputs": [],
   "source": [
    "load_model = keras.models.load_model('model/lstm_model')"
   ]
  },
  {
   "cell_type": "code",
   "execution_count": 22,
   "metadata": {},
   "outputs": [
    {
     "data": {
      "text/plain": [
       "array([[3.2597780e-04, 3.6897266e-01, 8.3527738e-01, ..., 8.9058805e-01,\n",
       "        9.0203333e-01, 7.6019132e-01],\n",
       "       [2.0784995e-10, 3.0900541e-01, 9.9372578e-01, ..., 9.9786520e-01,\n",
       "        9.9465752e-01, 8.8323396e-01],\n",
       "       [4.4609308e-03, 4.6355349e-01, 5.9230316e-01, ..., 4.7803706e-01,\n",
       "        5.5629414e-01, 4.9986187e-01],\n",
       "       ...,\n",
       "       [1.0357414e-05, 3.6110333e-01, 9.0660381e-01, ..., 9.1483653e-01,\n",
       "        8.8176763e-01, 5.5388337e-01],\n",
       "       [2.6979148e-03, 3.6258185e-01, 5.8529121e-01, ..., 6.5657490e-01,\n",
       "        7.8674543e-01, 7.5329822e-01],\n",
       "       [1.1647910e-02, 4.5994356e-01, 6.9631422e-01, ..., 6.1329991e-01,\n",
       "        5.9897548e-01, 3.3651870e-01]], dtype=float32)"
      ]
     },
     "execution_count": 22,
     "metadata": {},
     "output_type": "execute_result"
    }
   ],
   "source": [
    "y_pred = load_model.predict(X_test)\n",
    "y_pred"
   ]
  },
  {
   "cell_type": "code",
   "execution_count": 23,
   "metadata": {},
   "outputs": [],
   "source": [
    "np.save('y_lstm.npy',y_pred)"
   ]
  },
  {
   "cell_type": "code",
   "execution_count": null,
   "metadata": {},
   "outputs": [],
   "source": []
  },
  {
   "cell_type": "code",
   "execution_count": null,
   "metadata": {},
   "outputs": [],
   "source": []
  }
 ],
 "metadata": {
  "environment": {
   "kernel": "python3",
   "name": "tf2-gpu.2-6.m84",
   "type": "gcloud",
   "uri": "gcr.io/deeplearning-platform-release/tf2-gpu.2-6:m84"
  },
  "kernelspec": {
   "display_name": "Python 3",
   "language": "python",
   "name": "python3"
  },
  "language_info": {
   "codemirror_mode": {
    "name": "ipython",
    "version": 3
   },
   "file_extension": ".py",
   "mimetype": "text/x-python",
   "name": "python",
   "nbconvert_exporter": "python",
   "pygments_lexer": "ipython3",
   "version": "3.7.12"
  }
 },
 "nbformat": 4,
 "nbformat_minor": 4
}
